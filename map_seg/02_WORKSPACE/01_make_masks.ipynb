{
 "cells": [
  {
   "cell_type": "markdown",
   "id": "df790b6f-ab43-4fd3-a24d-6fbf02379b99",
   "metadata": {},
   "source": [
    "## Import"
   ]
  },
  {
   "cell_type": "code",
   "execution_count": 1,
   "id": "0f9cc0b8-2946-4435-b14d-838c87eaa04b",
   "metadata": {
    "execution": {
     "iopub.execute_input": "2022-12-07T19:55:27.217192Z",
     "iopub.status.busy": "2022-12-07T19:55:27.216122Z",
     "iopub.status.idle": "2022-12-07T19:55:28.416824Z",
     "shell.execute_reply": "2022-12-07T19:55:28.415841Z",
     "shell.execute_reply.started": "2022-12-07T19:55:27.217015Z"
    },
    "tags": []
   },
   "outputs": [],
   "source": [
    "import numpy as np\n",
    "import os\n",
    "import json\n",
    "import matplotlib.pyplot as plt\n",
    "import tifffile as tiff \n",
    "import cv2\n",
    "import pandas as pd\n",
    "from tqdm import tqdm\n",
    "import shutil"
   ]
  },
  {
   "cell_type": "markdown",
   "id": "aa22fd01-45a4-4669-b463-efb32bce60e2",
   "metadata": {},
   "source": [
    "## Read data files"
   ]
  },
  {
   "cell_type": "code",
   "execution_count": 13,
   "id": "0bca2fec-5944-4770-99cf-5194eebdeb09",
   "metadata": {
    "execution": {
     "iopub.execute_input": "2022-09-10T09:55:29.679005Z",
     "iopub.status.busy": "2022-09-10T09:55:29.678176Z",
     "iopub.status.idle": "2022-09-10T09:55:29.687537Z",
     "shell.execute_reply": "2022-09-10T09:55:29.685915Z",
     "shell.execute_reply.started": "2022-09-10T09:55:29.678943Z"
    },
    "tags": []
   },
   "outputs": [],
   "source": [
    "datapath = '/workspace/Competition/landmap/01_DATA'\n",
    "trainpath = os.path.join(datapath,'train')\n",
    "testpath = os.path.join(datapath,'test')"
   ]
  },
  {
   "cell_type": "code",
   "execution_count": 14,
   "id": "cd31feec-37eb-4c89-9a53-4668391718f5",
   "metadata": {
    "execution": {
     "iopub.execute_input": "2022-09-10T09:55:30.163058Z",
     "iopub.status.busy": "2022-09-10T09:55:30.162107Z",
     "iopub.status.idle": "2022-09-10T09:55:30.214169Z",
     "shell.execute_reply": "2022-09-10T09:55:30.213157Z",
     "shell.execute_reply.started": "2022-09-10T09:55:30.162991Z"
    },
    "tags": []
   },
   "outputs": [],
   "source": [
    "train_meta_path = os.path.join(trainpath, 'label', 'meta_converted')\n",
    "train_poly_path = os.path.join(trainpath, 'label', 'polygon')\n",
    "train_raw_path = os.path.join(trainpath, 'raw')\n",
    "\n",
    "test_meta_path = os.path.join(testpath, 'label', 'meta_converted')\n",
    "test_poly_path = os.path.join(testpath, 'label', 'polygon')\n",
    "test_raw_path = os.path.join(testpath, 'raw')\n",
    "\n",
    "train_meta_files = os.listdir(train_meta_path)\n",
    "train_poly_files = os.listdir(train_poly_path)\n",
    "train_raw_files = os.listdir(train_raw_path)\n",
    "train_meta_files = [x for x in train_meta_files if not x.startswith('.')]\n",
    "train_poly_files = [x for x in train_poly_files if not x.startswith('.')]\n",
    "train_raw_files = [x for x in train_raw_files if not x.startswith('.')]\n",
    "\n",
    "test_meta_files = os.listdir(test_meta_path)\n",
    "test_poly_files = os.listdir(test_poly_path)\n",
    "test_raw_files = os.listdir(test_raw_path)\n",
    "test_meta_files = [x for x in test_meta_files if not x.startswith('.')]\n",
    "test_poly_files = [x for x in test_poly_files if not x.startswith('.')]\n",
    "test_raw_files = [x for x in test_raw_files if not x.startswith('.')]"
   ]
  },
  {
   "cell_type": "markdown",
   "id": "db1dcf99-0ccb-4b84-b67d-6164be32bfa8",
   "metadata": {},
   "source": [
    "## Make mask files"
   ]
  },
  {
   "cell_type": "code",
   "execution_count": 15,
   "id": "155c39f3-3ccd-4b6e-a9fb-5d5cd060a7ff",
   "metadata": {
    "execution": {
     "iopub.execute_input": "2022-09-10T09:55:31.952736Z",
     "iopub.status.busy": "2022-09-10T09:55:31.951788Z",
     "iopub.status.idle": "2022-09-10T09:55:31.965730Z",
     "shell.execute_reply": "2022-09-10T09:55:31.964150Z",
     "shell.execute_reply.started": "2022-09-10T09:55:31.952668Z"
    },
    "tags": []
   },
   "outputs": [],
   "source": [
    "# Function to change \n",
    "def coord_to_points(coords, origin, resolution):\n",
    "    new_coord = []\n",
    "    for point in coords:\n",
    "        npoint = (max(0,point[0]-origin[0]), max(0,origin[1]-point[1]))\n",
    "        new_coord.append(npoint)\n",
    "    xes = [int(np.round(x[0]/resolution)) for x in new_coord]\n",
    "    yes = [int(np.round(x[1]/resolution)) for x in new_coord]\n",
    "    return xes,yes\n",
    "    "
   ]
  },
  {
   "cell_type": "code",
   "execution_count": 19,
   "id": "b0928725-90d8-48ab-acc0-f720292f0367",
   "metadata": {
    "execution": {
     "iopub.execute_input": "2022-09-10T09:59:02.272227Z",
     "iopub.status.busy": "2022-09-10T09:59:02.271228Z",
     "iopub.status.idle": "2022-09-10T09:59:02.284022Z",
     "shell.execute_reply": "2022-09-10T09:59:02.282124Z",
     "shell.execute_reply.started": "2022-09-10T09:59:02.272155Z"
    },
    "tags": []
   },
   "outputs": [],
   "source": [
    "building_raw_path = os.path.join(testpath,'raw_buildings')\n",
    "building_raw_files = os.listdir(building_raw_path)\n",
    "building_raw_files = [x for x in building_raw_files if not x.startswith('.')]"
   ]
  },
  {
   "cell_type": "code",
   "execution_count": 20,
   "id": "8fad03fa-c283-4217-94ba-743ecb28b53d",
   "metadata": {
    "execution": {
     "iopub.execute_input": "2022-09-10T09:59:03.032814Z",
     "iopub.status.busy": "2022-09-10T09:59:03.031990Z",
     "iopub.status.idle": "2022-09-10T09:59:03.040329Z",
     "shell.execute_reply": "2022-09-10T09:59:03.038645Z",
     "shell.execute_reply.started": "2022-09-10T09:59:03.032752Z"
    },
    "tags": []
   },
   "outputs": [],
   "source": [
    "outpath = '/workspace/Competition/landmap/01_DATA/test/mask_buildings'"
   ]
  },
  {
   "cell_type": "code",
   "execution_count": 22,
   "id": "cdf9d9fe-e038-423b-a071-aa677cc97cee",
   "metadata": {
    "execution": {
     "iopub.execute_input": "2022-09-10T09:59:46.282215Z",
     "iopub.status.busy": "2022-09-10T09:59:46.281182Z",
     "iopub.status.idle": "2022-09-10T10:00:02.248537Z",
     "shell.execute_reply": "2022-09-10T10:00:02.247725Z",
     "shell.execute_reply.started": "2022-09-10T09:59:46.282146Z"
    },
    "tags": []
   },
   "outputs": [
    {
     "name": "stderr",
     "output_type": "stream",
     "text": [
      "100%|██████████| 1303/1303 [00:15<00:00, 81.73it/s] \n"
     ]
    }
   ],
   "source": [
    "for imfile in tqdm(building_raw_files):\n",
    "    #files\n",
    "    fid = imfile.split('.')[0]\n",
    "    metafile = fid+'_META.json'\n",
    "    polyfile = fid+'_FGT.json'\n",
    "    #file paths\n",
    "    impath = os.path.join(building_raw_path,imfile)\n",
    "    metapath = os.path.join(test_meta_path, metafile)\n",
    "    polypath = os.path.join(test_poly_path, polyfile)\n",
    "    # Load image and files\n",
    "    im = tiff.imread(impath)\n",
    "    poly_dict = json.load(open(polypath))\n",
    "    meta_dict = json.load(open(metapath))\n",
    "    # Load coordinates for buildings\n",
    "    building_coordinates = []\n",
    "    for feat in poly_dict['features']:\n",
    "        if feat['properties']['ANN_CD']==10:\n",
    "            coords = feat['geometry']['coordinates'][0]\n",
    "            building_coordinates.append(coords)\n",
    "    # Meta info\n",
    "    meta_coord = meta_dict[0]['coordinates']\n",
    "    origin = [float(meta_coord.split(', ')[0]), float(meta_coord.split(', ')[1])]\n",
    "    org_x = origin[0]\n",
    "    org_y = origin[1]\n",
    "    # Aggregate all masks\n",
    "    allmasks = []\n",
    "    for sub_coord in building_coordinates:\n",
    "        xs,ys = coord_to_points(sub_coord, origin, 0.51)\n",
    "        points = np.array(list(zip(xs,ys)))\n",
    "        maskim = np.zeros((512,512),dtype=np.int32)\n",
    "        maskim = cv2.fillPoly(maskim, pts=[points],color=(255,255,255))\n",
    "        allmasks.append(maskim)\n",
    "    finmask = np.zeros((512,512),dtype=np.int32)\n",
    "    for submask in allmasks:\n",
    "        finmask = finmask + submask\n",
    "    finpath = os.path.join(outpath, fid+'.png')\n",
    "    cv2.imwrite(finpath, finmask)\n",
    "    \n",
    "    "
   ]
  },
  {
   "cell_type": "markdown",
   "id": "50e8cf3e-b7ac-49b4-9564-a5de7c0db00b",
   "metadata": {},
   "source": [
    "## Convert raw tiff files to png"
   ]
  },
  {
   "cell_type": "code",
   "execution_count": 46,
   "id": "5ce0ad5c-79bf-4773-92be-ef3d378d155e",
   "metadata": {
    "execution": {
     "iopub.execute_input": "2022-09-12T05:22:58.686940Z",
     "iopub.status.busy": "2022-09-12T05:22:58.685862Z",
     "iopub.status.idle": "2022-09-12T05:22:58.699740Z",
     "shell.execute_reply": "2022-09-12T05:22:58.698046Z",
     "shell.execute_reply.started": "2022-09-12T05:22:58.686867Z"
    },
    "tags": []
   },
   "outputs": [],
   "source": [
    "raw_path = '/workspace/Competition/landmap/01_DATA/test/raw_buildings'\n",
    "raw_tiffs = os.listdir(raw_path)\n",
    "raw_tiffs = [x for x in raw_tiffs if not x.startswith('.')]"
   ]
  },
  {
   "cell_type": "code",
   "execution_count": 47,
   "id": "d1faa203-d894-4421-8de3-d865b7e151cd",
   "metadata": {
    "execution": {
     "iopub.execute_input": "2022-09-12T05:23:06.069774Z",
     "iopub.status.busy": "2022-09-12T05:23:06.068259Z",
     "iopub.status.idle": "2022-09-12T05:23:40.264657Z",
     "shell.execute_reply": "2022-09-12T05:23:40.263830Z",
     "shell.execute_reply.started": "2022-09-12T05:23:06.069678Z"
    },
    "tags": []
   },
   "outputs": [
    {
     "name": "stderr",
     "output_type": "stream",
     "text": [
      "100%|██████████| 1303/1303 [00:34<00:00, 38.12it/s]\n"
     ]
    }
   ],
   "source": [
    "outpath = '/workspace/Competition/landmap/01_DATA/test/png_raw'\n",
    "\n",
    "for raw_tiff in tqdm(raw_tiffs):\n",
    "    imname = raw_tiff.split('.')[0]\n",
    "    impath = os.path.join(raw_path, raw_tiff)\n",
    "    im = tiff.imread(impath)\n",
    "    svpath = os.path.join(outpath, imname+'.png')\n",
    "    cv2.imwrite(svpath, cv2.cvtColor(im, cv2.COLOR_RGB2BGR))"
   ]
  },
  {
   "cell_type": "markdown",
   "id": "a40d9dc3-4c9f-4f76-bd2b-b432383782ae",
   "metadata": {},
   "source": [
    "CHECK to see that raw and mask have the same names"
   ]
  },
  {
   "cell_type": "code",
   "execution_count": 48,
   "id": "4502114b-bfc7-44e1-a9ee-5207fe46ecf5",
   "metadata": {
    "execution": {
     "iopub.execute_input": "2022-09-12T05:23:43.318679Z",
     "iopub.status.busy": "2022-09-12T05:23:43.317633Z",
     "iopub.status.idle": "2022-09-12T05:23:43.335325Z",
     "shell.execute_reply": "2022-09-12T05:23:43.333584Z",
     "shell.execute_reply.started": "2022-09-12T05:23:43.318607Z"
    },
    "tags": []
   },
   "outputs": [],
   "source": [
    "rawpath = '/workspace/Competition/landmap/01_DATA/test/png_raw'\n",
    "maskpath = '/workspace/Competition/landmap/01_DATA/test/png_mask'\n",
    "\n",
    "rawfiles = os.listdir(rawpath)\n",
    "maskfiles = os.listdir(maskpath)\n",
    "rawfiles = [x for x in rawfiles if not x.startswith('.')]\n",
    "maskfiles = [x for x in maskfiles if not x.startswith('.')]"
   ]
  },
  {
   "cell_type": "code",
   "execution_count": 49,
   "id": "7401d73d-a384-4df1-a591-df263c8319d1",
   "metadata": {
    "execution": {
     "iopub.execute_input": "2022-09-12T05:23:44.205642Z",
     "iopub.status.busy": "2022-09-12T05:23:44.204659Z",
     "iopub.status.idle": "2022-09-12T05:23:44.219026Z",
     "shell.execute_reply": "2022-09-12T05:23:44.217120Z",
     "shell.execute_reply.started": "2022-09-12T05:23:44.205572Z"
    },
    "tags": []
   },
   "outputs": [
    {
     "data": {
      "text/plain": [
       "True"
      ]
     },
     "execution_count": 49,
     "metadata": {},
     "output_type": "execute_result"
    }
   ],
   "source": [
    "set(rawfiles) == set(maskfiles)"
   ]
  },
  {
   "cell_type": "markdown",
   "id": "ebc30341-8d91-4671-83d7-8ce06a12dc42",
   "metadata": {},
   "source": [
    "## Encode file names (and sample)"
   ]
  },
  {
   "cell_type": "code",
   "execution_count": 51,
   "id": "94fc2a3d-ba67-4fe4-b58e-a4ec1d112090",
   "metadata": {
    "execution": {
     "iopub.execute_input": "2022-09-12T05:32:01.411668Z",
     "iopub.status.busy": "2022-09-12T05:32:01.410037Z",
     "iopub.status.idle": "2022-09-12T05:32:02.121901Z",
     "shell.execute_reply": "2022-09-12T05:32:02.121104Z",
     "shell.execute_reply.started": "2022-09-12T05:32:01.411600Z"
    },
    "tags": []
   },
   "outputs": [
    {
     "name": "stderr",
     "output_type": "stream",
     "text": [
      "100%|██████████| 1303/1303 [00:00<00:00, 1877.10it/s]\n"
     ]
    }
   ],
   "source": [
    "cnt = 0\n",
    "\n",
    "mask_outpath = '/workspace/Competition/landmap/01_DATA/test/png_mask_encoded'\n",
    "raw_outpath = '/workspace/Competition/landmap/01_DATA/test/png_raw_encoded'\n",
    "\n",
    "oldnames = []\n",
    "newnames = []\n",
    "\n",
    "for rawimg in tqdm(rawfiles):\n",
    "    newname = 'test_' + str(cnt) + '.png'\n",
    "    rawsrc = os.path.join(rawpath, rawimg)\n",
    "    masksrc = os.path.join(maskpath, rawimg)\n",
    "    rawdst = os.path.join(raw_outpath, newname)\n",
    "    maskdst = os.path.join(mask_outpath, newname)\n",
    "    shutil.copy(rawsrc, rawdst)\n",
    "    shutil.copy(masksrc, maskdst)\n",
    "    cnt+=1\n",
    "    oldnames.append(rawimg)\n",
    "    newnames.append(newname)\n"
   ]
  },
  {
   "cell_type": "code",
   "execution_count": 52,
   "id": "9709bfb3-8d05-40e6-a1bb-dbd5b71cde27",
   "metadata": {
    "execution": {
     "iopub.execute_input": "2022-09-12T05:32:06.906173Z",
     "iopub.status.busy": "2022-09-12T05:32:06.905306Z",
     "iopub.status.idle": "2022-09-12T05:32:06.917007Z",
     "shell.execute_reply": "2022-09-12T05:32:06.915240Z",
     "shell.execute_reply.started": "2022-09-12T05:32:06.906109Z"
    },
    "tags": []
   },
   "outputs": [],
   "source": [
    "keydf = pd.DataFrame(list(zip(oldnames,newnames)),columns=['original','newid'])"
   ]
  },
  {
   "cell_type": "code",
   "execution_count": 53,
   "id": "4bb075e9-92cf-4d4d-89ee-9c910e1ad19f",
   "metadata": {
    "execution": {
     "iopub.execute_input": "2022-09-12T05:32:10.215794Z",
     "iopub.status.busy": "2022-09-12T05:32:10.214823Z",
     "iopub.status.idle": "2022-09-12T05:32:10.232664Z",
     "shell.execute_reply": "2022-09-12T05:32:10.231468Z",
     "shell.execute_reply.started": "2022-09-12T05:32:10.215727Z"
    },
    "tags": []
   },
   "outputs": [],
   "source": [
    "keydf.to_csv('test_keydf.csv',index=False)"
   ]
  },
  {
   "cell_type": "markdown",
   "id": "2da3c4f2-49bf-4ee7-8a43-22f5c93798c9",
   "metadata": {},
   "source": [
    "## Make img-mask dataframe"
   ]
  },
  {
   "cell_type": "code",
   "execution_count": 4,
   "id": "062caf37-2a20-4d74-8c81-fc6e8c510d97",
   "metadata": {
    "execution": {
     "iopub.execute_input": "2022-09-12T05:37:03.883177Z",
     "iopub.status.busy": "2022-09-12T05:37:03.882048Z",
     "iopub.status.idle": "2022-09-12T05:37:03.898304Z",
     "shell.execute_reply": "2022-09-12T05:37:03.896719Z",
     "shell.execute_reply.started": "2022-09-12T05:37:03.883107Z"
    },
    "tags": []
   },
   "outputs": [],
   "source": [
    "rawpath = '/workspace/Competition/landmap/01_DATA/train/png_raw_encoded'\n",
    "rawfiles = os.listdir(rawpath)\n",
    "rawfiles = [x for x in rawfiles if not x.startswith('.')]"
   ]
  },
  {
   "cell_type": "code",
   "execution_count": 7,
   "id": "90156cd6-8e6a-4e47-b14d-4008e64c35dd",
   "metadata": {
    "execution": {
     "iopub.execute_input": "2022-09-12T05:40:11.426367Z",
     "iopub.status.busy": "2022-09-12T05:40:11.425219Z",
     "iopub.status.idle": "2022-09-12T05:40:11.440964Z",
     "shell.execute_reply": "2022-09-12T05:40:11.439185Z",
     "shell.execute_reply.started": "2022-09-12T05:40:11.426296Z"
    },
    "tags": []
   },
   "outputs": [],
   "source": [
    "traindf = pd.DataFrame(list(zip(rawfiles,rawfiles)),columns=['img','mask'])"
   ]
  },
  {
   "cell_type": "code",
   "execution_count": 8,
   "id": "ce532311-f681-40b5-bda5-753d6d41850d",
   "metadata": {
    "execution": {
     "iopub.execute_input": "2022-09-12T05:40:14.149519Z",
     "iopub.status.busy": "2022-09-12T05:40:14.148559Z",
     "iopub.status.idle": "2022-09-12T05:40:14.167889Z",
     "shell.execute_reply": "2022-09-12T05:40:14.166656Z",
     "shell.execute_reply.started": "2022-09-12T05:40:14.149443Z"
    },
    "tags": []
   },
   "outputs": [
    {
     "data": {
      "text/html": [
       "<div>\n",
       "<style scoped>\n",
       "    .dataframe tbody tr th:only-of-type {\n",
       "        vertical-align: middle;\n",
       "    }\n",
       "\n",
       "    .dataframe tbody tr th {\n",
       "        vertical-align: top;\n",
       "    }\n",
       "\n",
       "    .dataframe thead th {\n",
       "        text-align: right;\n",
       "    }\n",
       "</style>\n",
       "<table border=\"1\" class=\"dataframe\">\n",
       "  <thead>\n",
       "    <tr style=\"text-align: right;\">\n",
       "      <th></th>\n",
       "      <th>img</th>\n",
       "      <th>mask</th>\n",
       "    </tr>\n",
       "  </thead>\n",
       "  <tbody>\n",
       "    <tr>\n",
       "      <th>0</th>\n",
       "      <td>map_122.png</td>\n",
       "      <td>map_122.png</td>\n",
       "    </tr>\n",
       "    <tr>\n",
       "      <th>1</th>\n",
       "      <td>map_0.png</td>\n",
       "      <td>map_0.png</td>\n",
       "    </tr>\n",
       "    <tr>\n",
       "      <th>2</th>\n",
       "      <td>map_1.png</td>\n",
       "      <td>map_1.png</td>\n",
       "    </tr>\n",
       "    <tr>\n",
       "      <th>3</th>\n",
       "      <td>map_2.png</td>\n",
       "      <td>map_2.png</td>\n",
       "    </tr>\n",
       "    <tr>\n",
       "      <th>4</th>\n",
       "      <td>map_3.png</td>\n",
       "      <td>map_3.png</td>\n",
       "    </tr>\n",
       "  </tbody>\n",
       "</table>\n",
       "</div>"
      ],
      "text/plain": [
       "           img         mask\n",
       "0  map_122.png  map_122.png\n",
       "1    map_0.png    map_0.png\n",
       "2    map_1.png    map_1.png\n",
       "3    map_2.png    map_2.png\n",
       "4    map_3.png    map_3.png"
      ]
     },
     "execution_count": 8,
     "metadata": {},
     "output_type": "execute_result"
    }
   ],
   "source": [
    "traindf.head()"
   ]
  },
  {
   "cell_type": "code",
   "execution_count": 9,
   "id": "88f6e363-e999-44d5-908b-dcc51ba834d5",
   "metadata": {
    "execution": {
     "iopub.execute_input": "2022-09-12T05:40:39.591811Z",
     "iopub.status.busy": "2022-09-12T05:40:39.590660Z",
     "iopub.status.idle": "2022-09-12T05:40:39.620636Z",
     "shell.execute_reply": "2022-09-12T05:40:39.619602Z",
     "shell.execute_reply.started": "2022-09-12T05:40:39.591740Z"
    },
    "tags": []
   },
   "outputs": [],
   "source": [
    "traindf.to_csv('traindf.csv',index=False)"
   ]
  }
 ],
 "metadata": {
  "kernelspec": {
   "display_name": "Python 3 (ipykernel)",
   "language": "python",
   "name": "python3"
  },
  "language_info": {
   "codemirror_mode": {
    "name": "ipython",
    "version": 3
   },
   "file_extension": ".py",
   "mimetype": "text/x-python",
   "name": "python",
   "nbconvert_exporter": "python",
   "pygments_lexer": "ipython3",
   "version": "3.9.13"
  }
 },
 "nbformat": 4,
 "nbformat_minor": 5
}
