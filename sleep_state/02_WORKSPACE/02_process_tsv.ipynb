{
 "cells": [
  {
   "cell_type": "code",
   "execution_count": 3,
   "id": "ae5fbde2-2286-44b6-98b2-cbc48f66956f",
   "metadata": {
    "execution": {
     "iopub.execute_input": "2022-08-11T05:10:13.563025Z",
     "iopub.status.busy": "2022-08-11T05:10:13.561971Z",
     "iopub.status.idle": "2022-08-11T05:10:14.294305Z",
     "shell.execute_reply": "2022-08-11T05:10:14.293262Z",
     "shell.execute_reply.started": "2022-08-11T05:10:13.562958Z"
    },
    "tags": []
   },
   "outputs": [],
   "source": [
    "import os\n",
    "import numpy\n",
    "import pandas as pd\n",
    "import mne"
   ]
  },
  {
   "cell_type": "code",
   "execution_count": 4,
   "id": "f129c678-3894-4113-a4cf-e01df330afd9",
   "metadata": {
    "execution": {
     "iopub.execute_input": "2022-08-11T05:10:14.682021Z",
     "iopub.status.busy": "2022-08-11T05:10:14.680716Z",
     "iopub.status.idle": "2022-08-11T05:10:14.691105Z",
     "shell.execute_reply": "2022-08-11T05:10:14.689224Z",
     "shell.execute_reply.started": "2022-08-11T05:10:14.681944Z"
    },
    "tags": []
   },
   "outputs": [],
   "source": [
    "pd.options.display.float_format = '{:.9f}'.format"
   ]
  },
  {
   "cell_type": "code",
   "execution_count": 5,
   "id": "835e54fe-6a8e-4c9e-ad6c-afd6df829972",
   "metadata": {
    "execution": {
     "iopub.execute_input": "2022-08-11T05:10:15.496976Z",
     "iopub.status.busy": "2022-08-11T05:10:15.496117Z",
     "iopub.status.idle": "2022-08-11T05:10:15.504189Z",
     "shell.execute_reply": "2022-08-11T05:10:15.502508Z",
     "shell.execute_reply.started": "2022-08-11T05:10:15.496915Z"
    },
    "tags": []
   },
   "outputs": [],
   "source": [
    "raw_path = '/workspace/Competition/PSG/01_DATA/raw'"
   ]
  },
  {
   "cell_type": "code",
   "execution_count": 6,
   "id": "36bb597c-3527-47db-9cb9-62064f4a838a",
   "metadata": {
    "execution": {
     "iopub.execute_input": "2022-08-11T05:10:16.506604Z",
     "iopub.status.busy": "2022-08-11T05:10:16.505368Z",
     "iopub.status.idle": "2022-08-11T05:10:16.520935Z",
     "shell.execute_reply": "2022-08-11T05:10:16.518713Z",
     "shell.execute_reply.started": "2022-08-11T05:10:16.506522Z"
    },
    "tags": []
   },
   "outputs": [],
   "source": [
    "raw_files = os.listdir(raw_path)\n",
    "raw_files = [x for x in raw_files if not x.startswith('.')]\n",
    "edf_files = [x for x in raw_files if 'edf' in x]\n",
    "tsv_files = [x for x in raw_files if 'tsv' in x]\n",
    "ids = [x.split('.')[0] for x in raw_files]"
   ]
  },
  {
   "cell_type": "code",
   "execution_count": 7,
   "id": "d56889ca-51b5-4581-91c1-0ff445d7aa72",
   "metadata": {
    "execution": {
     "iopub.execute_input": "2022-08-11T05:10:21.763737Z",
     "iopub.status.busy": "2022-08-11T05:10:21.762689Z",
     "iopub.status.idle": "2022-08-11T05:10:21.787170Z",
     "shell.execute_reply": "2022-08-11T05:10:21.785837Z",
     "shell.execute_reply.started": "2022-08-11T05:10:21.763669Z"
    },
    "tags": []
   },
   "outputs": [
    {
     "data": {
      "text/plain": [
       "102"
      ]
     },
     "execution_count": 7,
     "metadata": {},
     "output_type": "execute_result"
    }
   ],
   "source": [
    "len(tsv_files)"
   ]
  },
  {
   "cell_type": "code",
   "execution_count": null,
   "id": "b4a90540-686d-4950-aca1-30900c953a9a",
   "metadata": {},
   "outputs": [],
   "source": []
  },
  {
   "cell_type": "code",
   "execution_count": 63,
   "id": "52cad2a7-f527-44c6-9e67-39f593ad3d11",
   "metadata": {
    "collapsed": true,
    "execution": {
     "iopub.execute_input": "2022-08-10T02:50:17.004811Z",
     "iopub.status.busy": "2022-08-10T02:50:17.003950Z",
     "iopub.status.idle": "2022-08-10T02:50:17.016713Z",
     "shell.execute_reply": "2022-08-10T02:50:17.015258Z",
     "shell.execute_reply.started": "2022-08-10T02:50:17.004747Z"
    },
    "jupyter": {
     "outputs_hidden": true
    },
    "tags": []
   },
   "outputs": [
    {
     "data": {
      "text/plain": [
       "['1_4789.tsv',\n",
       " '10_22339.tsv',\n",
       " '16_24241.tsv',\n",
       " '22_23233.tsv',\n",
       " '25_10579.tsv',\n",
       " '25_18085.tsv',\n",
       " '28_15280.tsv',\n",
       " '31_4429.tsv',\n",
       " '37_14779.tsv',\n",
       " '7_12595.tsv',\n",
       " '40_14503.tsv',\n",
       " '43_175.tsv',\n",
       " '46_11305.tsv',\n",
       " '55_6112.tsv',\n",
       " '61_19477.tsv',\n",
       " '64_14908.tsv',\n",
       " '64_25396.tsv',\n",
       " '67_5998.tsv',\n",
       " '70_20743.tsv',\n",
       " '82_20809.tsv',\n",
       " '100_23083.tsv',\n",
       " '103_12325.tsv',\n",
       " '115_22774.tsv',\n",
       " '121_23845.tsv',\n",
       " '127_19126.tsv',\n",
       " '130_5164.tsv',\n",
       " '136_4501.tsv',\n",
       " '91_15028.tsv',\n",
       " '91_18331.tsv',\n",
       " '91_3787.tsv',\n",
       " '139_20275.tsv',\n",
       " '145_1537.tsv',\n",
       " '148_568.tsv',\n",
       " '151_23734.tsv',\n",
       " '154_18469.tsv',\n",
       " '157_6391.tsv',\n",
       " '160_11500.tsv',\n",
       " '160_12856.tsv',\n",
       " '160_2740.tsv',\n",
       " '163_20485.tsv',\n",
       " '166_10357.tsv',\n",
       " '181_12274.tsv',\n",
       " '184_2509.tsv',\n",
       " '187_6160.tsv',\n",
       " '190_9877.tsv',\n",
       " '202_13666.tsv',\n",
       " '205_23176.tsv',\n",
       " '211_25741.tsv',\n",
       " '211_8290.tsv',\n",
       " '220_7708.tsv']"
      ]
     },
     "execution_count": 63,
     "metadata": {},
     "output_type": "execute_result"
    }
   ],
   "source": [
    "tsv_files"
   ]
  },
  {
   "cell_type": "code",
   "execution_count": 64,
   "id": "110ac8f8-2327-41f3-ba5f-297513983a38",
   "metadata": {
    "execution": {
     "iopub.execute_input": "2022-08-10T02:50:20.881795Z",
     "iopub.status.busy": "2022-08-10T02:50:20.880445Z",
     "iopub.status.idle": "2022-08-10T02:50:20.895229Z",
     "shell.execute_reply": "2022-08-10T02:50:20.894116Z",
     "shell.execute_reply.started": "2022-08-10T02:50:20.881731Z"
    },
    "tags": []
   },
   "outputs": [],
   "source": [
    "testpath = os.path.join(raw_path, tsv_files[0])\n",
    "data = pd.read_csv(testpath, delimiter='\\t')"
   ]
  },
  {
   "cell_type": "code",
   "execution_count": 65,
   "id": "ea672a8d-5ebe-4228-a686-d6ad18696914",
   "metadata": {
    "execution": {
     "iopub.execute_input": "2022-08-10T02:50:21.888693Z",
     "iopub.status.busy": "2022-08-10T02:50:21.887834Z",
     "iopub.status.idle": "2022-08-10T02:50:21.905313Z",
     "shell.execute_reply": "2022-08-10T02:50:21.904288Z",
     "shell.execute_reply.started": "2022-08-10T02:50:21.888631Z"
    },
    "tags": []
   },
   "outputs": [
    {
     "data": {
      "text/html": [
       "<div>\n",
       "<style scoped>\n",
       "    .dataframe tbody tr th:only-of-type {\n",
       "        vertical-align: middle;\n",
       "    }\n",
       "\n",
       "    .dataframe tbody tr th {\n",
       "        vertical-align: top;\n",
       "    }\n",
       "\n",
       "    .dataframe thead th {\n",
       "        text-align: right;\n",
       "    }\n",
       "</style>\n",
       "<table border=\"1\" class=\"dataframe\">\n",
       "  <thead>\n",
       "    <tr style=\"text-align: right;\">\n",
       "      <th></th>\n",
       "      <th>onset</th>\n",
       "      <th>duration</th>\n",
       "      <th>description</th>\n",
       "    </tr>\n",
       "  </thead>\n",
       "  <tbody>\n",
       "    <tr>\n",
       "      <th>0</th>\n",
       "      <td>0.335937500</td>\n",
       "      <td>0.000000000</td>\n",
       "      <td>Start Recording</td>\n",
       "    </tr>\n",
       "    <tr>\n",
       "      <th>1</th>\n",
       "      <td>0.335937500</td>\n",
       "      <td>0.000000000</td>\n",
       "      <td>Montage:NCH_PSG_STANDARD, Ref</td>\n",
       "    </tr>\n",
       "    <tr>\n",
       "      <th>2</th>\n",
       "      <td>0.335937500</td>\n",
       "      <td>0.000000000</td>\n",
       "      <td>Montage:NCH_PSG_STANDARD, Ref</td>\n",
       "    </tr>\n",
       "    <tr>\n",
       "      <th>3</th>\n",
       "      <td>0.460937500</td>\n",
       "      <td>0.000000000</td>\n",
       "      <td>Recording Analyzer - ECG</td>\n",
       "    </tr>\n",
       "    <tr>\n",
       "      <th>4</th>\n",
       "      <td>1.007812500</td>\n",
       "      <td>0.000000000</td>\n",
       "      <td>Video Recording ON</td>\n",
       "    </tr>\n",
       "  </tbody>\n",
       "</table>\n",
       "</div>"
      ],
      "text/plain": [
       "        onset    duration                    description\n",
       "0 0.335937500 0.000000000                Start Recording\n",
       "1 0.335937500 0.000000000  Montage:NCH_PSG_STANDARD, Ref\n",
       "2 0.335937500 0.000000000  Montage:NCH_PSG_STANDARD, Ref\n",
       "3 0.460937500 0.000000000       Recording Analyzer - ECG\n",
       "4 1.007812500 0.000000000             Video Recording ON"
      ]
     },
     "execution_count": 65,
     "metadata": {},
     "output_type": "execute_result"
    }
   ],
   "source": [
    "data.head()"
   ]
  },
  {
   "cell_type": "code",
   "execution_count": 66,
   "id": "23403c0b-a893-4810-9022-b812b76ca299",
   "metadata": {
    "execution": {
     "iopub.execute_input": "2022-08-10T02:50:36.350759Z",
     "iopub.status.busy": "2022-08-10T02:50:36.349548Z",
     "iopub.status.idle": "2022-08-10T02:50:36.367754Z",
     "shell.execute_reply": "2022-08-10T02:50:36.366466Z",
     "shell.execute_reply.started": "2022-08-10T02:50:36.350695Z"
    },
    "tags": []
   },
   "outputs": [
    {
     "data": {
      "text/html": [
       "<div>\n",
       "<style scoped>\n",
       "    .dataframe tbody tr th:only-of-type {\n",
       "        vertical-align: middle;\n",
       "    }\n",
       "\n",
       "    .dataframe tbody tr th {\n",
       "        vertical-align: top;\n",
       "    }\n",
       "\n",
       "    .dataframe thead th {\n",
       "        text-align: right;\n",
       "    }\n",
       "</style>\n",
       "<table border=\"1\" class=\"dataframe\">\n",
       "  <thead>\n",
       "    <tr style=\"text-align: right;\">\n",
       "      <th></th>\n",
       "      <th>onset</th>\n",
       "      <th>duration</th>\n",
       "      <th>description</th>\n",
       "    </tr>\n",
       "  </thead>\n",
       "  <tbody>\n",
       "    <tr>\n",
       "      <th>1130</th>\n",
       "      <td>34530.261718750</td>\n",
       "      <td>30.000000000</td>\n",
       "      <td>Sleep stage ?</td>\n",
       "    </tr>\n",
       "    <tr>\n",
       "      <th>1131</th>\n",
       "      <td>34560.261718750</td>\n",
       "      <td>30.000000000</td>\n",
       "      <td>Sleep stage ?</td>\n",
       "    </tr>\n",
       "    <tr>\n",
       "      <th>1132</th>\n",
       "      <td>34590.261718750</td>\n",
       "      <td>30.000000000</td>\n",
       "      <td>Sleep stage ?</td>\n",
       "    </tr>\n",
       "    <tr>\n",
       "      <th>1133</th>\n",
       "      <td>34620.261718750</td>\n",
       "      <td>30.000000000</td>\n",
       "      <td>Sleep stage ?</td>\n",
       "    </tr>\n",
       "    <tr>\n",
       "      <th>1134</th>\n",
       "      <td>34650.261718750</td>\n",
       "      <td>25.738281250</td>\n",
       "      <td>Sleep stage ?</td>\n",
       "    </tr>\n",
       "  </tbody>\n",
       "</table>\n",
       "</div>"
      ],
      "text/plain": [
       "               onset     duration    description\n",
       "1130 34530.261718750 30.000000000  Sleep stage ?\n",
       "1131 34560.261718750 30.000000000  Sleep stage ?\n",
       "1132 34590.261718750 30.000000000  Sleep stage ?\n",
       "1133 34620.261718750 30.000000000  Sleep stage ?\n",
       "1134 34650.261718750 25.738281250  Sleep stage ?"
      ]
     },
     "execution_count": 66,
     "metadata": {},
     "output_type": "execute_result"
    }
   ],
   "source": [
    "data.tail()"
   ]
  },
  {
   "cell_type": "code",
   "execution_count": 67,
   "id": "6eeed127-414a-4d9b-817c-df0d1343e1a2",
   "metadata": {
    "execution": {
     "iopub.execute_input": "2022-08-10T02:50:41.290082Z",
     "iopub.status.busy": "2022-08-10T02:50:41.289265Z",
     "iopub.status.idle": "2022-08-10T02:50:41.300314Z",
     "shell.execute_reply": "2022-08-10T02:50:41.298903Z",
     "shell.execute_reply.started": "2022-08-10T02:50:41.290017Z"
    },
    "tags": []
   },
   "outputs": [
    {
     "data": {
      "text/plain": [
       "(1135, 3)"
      ]
     },
     "execution_count": 67,
     "metadata": {},
     "output_type": "execute_result"
    }
   ],
   "source": [
    "data.shape"
   ]
  },
  {
   "cell_type": "code",
   "execution_count": 68,
   "id": "18b1912e-d4c4-4117-a758-2196c94174fd",
   "metadata": {
    "collapsed": true,
    "execution": {
     "iopub.execute_input": "2022-08-10T02:50:42.169813Z",
     "iopub.status.busy": "2022-08-10T02:50:42.168854Z",
     "iopub.status.idle": "2022-08-10T02:50:42.184101Z",
     "shell.execute_reply": "2022-08-10T02:50:42.183085Z",
     "shell.execute_reply.started": "2022-08-10T02:50:42.169749Z"
    },
    "jupyter": {
     "outputs_hidden": true
    },
    "tags": []
   },
   "outputs": [
    {
     "data": {
      "text/plain": [
       "Sleep stage N2                      453\n",
       "Sleep stage N3                      246\n",
       "Sleep stage ?                       104\n",
       "Sleep stage R                        90\n",
       "Sleep stage N1                       35\n",
       "EEG arousal                          34\n",
       "Sleep stage W                        30\n",
       "Oxygen Desaturation                  27\n",
       "move                                 25\n",
       "Bruxism                               7\n",
       "Body Position: Supine                 5\n",
       "Body Position: Prone                  4\n",
       "Body Position: Left                   4\n",
       "Soft Snoring                          4\n",
       "Gain/Filter Change                    4\n",
       "Body Position: Right                  4\n",
       "Montage:Channel Test Referential      4\n",
       "Montage:NCH_PSG_STANDARD              4\n",
       "Impedance at 10 kOhm                  4\n",
       "cough                                 3\n",
       "SNORES                                3\n",
       "soft snores                           3\n",
       "Montage:NCH_PSG_STANDARD, Ref         2\n",
       "EYES CLOSED                           2\n",
       "Started Analyzer - Sleep Events       2\n",
       "talk                                  2\n",
       "tech in turning pt supine             1\n",
       "pt pulled at cannula                  1\n",
       "Stopped Analyzer - Data Trends        1\n",
       "desat 90                              1\n",
       "tech in untangling pt                 1\n",
       "bruxism                               1\n",
       "Stopped Analyzer - Sleep Events       1\n",
       "Lights On                             1\n",
       "desat 92                              1\n",
       "whine                                 1\n",
       "Start Recording                       1\n",
       "pt rubbing eyes                       1\n",
       "CHEWS                                 1\n",
       "Recording Analyzer - ECG              1\n",
       "Video Recording ON                    1\n",
       "BIO CALS END                          1\n",
       "EYES OPEN                             1\n",
       "EYES UP AND DOWN                      1\n",
       "EYES LT TO R                          1\n",
       "BLINKS                                1\n",
       "NOSE BREATHING                        1\n",
       "Started Analyzer - Data Trends        1\n",
       "MOUTH BREATHING                       1\n",
       "BREATH HOLD                           1\n",
       "RAT                                   1\n",
       "LAT                                   1\n",
       "BIO CALS                              1\n",
       "Lights Off                            1\n",
       "Started Analyzer - ECG                1\n",
       "CBG                                   1\n",
       "Name: description, dtype: int64"
      ]
     },
     "execution_count": 68,
     "metadata": {},
     "output_type": "execute_result"
    }
   ],
   "source": [
    "data['description'].value_counts()"
   ]
  },
  {
   "cell_type": "code",
   "execution_count": 69,
   "id": "85fc98a3-1394-4b61-ad32-620667c89a89",
   "metadata": {
    "execution": {
     "iopub.execute_input": "2022-08-10T02:50:52.262373Z",
     "iopub.status.busy": "2022-08-10T02:50:52.261513Z",
     "iopub.status.idle": "2022-08-10T02:50:52.274122Z",
     "shell.execute_reply": "2022-08-10T02:50:52.272227Z",
     "shell.execute_reply.started": "2022-08-10T02:50:52.262309Z"
    },
    "tags": []
   },
   "outputs": [],
   "source": [
    "subdf = data[data['description'].str.contains('stage')]"
   ]
  },
  {
   "cell_type": "code",
   "execution_count": 70,
   "id": "8dea0b84-5422-47f8-b7c3-948dc0144331",
   "metadata": {
    "execution": {
     "iopub.execute_input": "2022-08-10T02:50:53.448910Z",
     "iopub.status.busy": "2022-08-10T02:50:53.448028Z",
     "iopub.status.idle": "2022-08-10T02:50:53.456693Z",
     "shell.execute_reply": "2022-08-10T02:50:53.455236Z",
     "shell.execute_reply.started": "2022-08-10T02:50:53.448847Z"
    },
    "tags": []
   },
   "outputs": [],
   "source": [
    "subdf = subdf.reset_index(drop=True)"
   ]
  },
  {
   "cell_type": "code",
   "execution_count": 71,
   "id": "62399b3e-06ae-4fdd-b6a6-0f9f919f4d6e",
   "metadata": {
    "execution": {
     "iopub.execute_input": "2022-08-10T02:50:54.636054Z",
     "iopub.status.busy": "2022-08-10T02:50:54.635189Z",
     "iopub.status.idle": "2022-08-10T02:50:54.656945Z",
     "shell.execute_reply": "2022-08-10T02:50:54.655883Z",
     "shell.execute_reply.started": "2022-08-10T02:50:54.635992Z"
    },
    "tags": []
   },
   "outputs": [
    {
     "data": {
      "text/html": [
       "<div>\n",
       "<style scoped>\n",
       "    .dataframe tbody tr th:only-of-type {\n",
       "        vertical-align: middle;\n",
       "    }\n",
       "\n",
       "    .dataframe tbody tr th {\n",
       "        vertical-align: top;\n",
       "    }\n",
       "\n",
       "    .dataframe thead th {\n",
       "        text-align: right;\n",
       "    }\n",
       "</style>\n",
       "<table border=\"1\" class=\"dataframe\">\n",
       "  <thead>\n",
       "    <tr style=\"text-align: right;\">\n",
       "      <th></th>\n",
       "      <th>onset</th>\n",
       "      <th>duration</th>\n",
       "      <th>description</th>\n",
       "    </tr>\n",
       "  </thead>\n",
       "  <tbody>\n",
       "    <tr>\n",
       "      <th>0</th>\n",
       "      <td>5940.261718750</td>\n",
       "      <td>30.000000000</td>\n",
       "      <td>Sleep stage W</td>\n",
       "    </tr>\n",
       "    <tr>\n",
       "      <th>1</th>\n",
       "      <td>5970.261718750</td>\n",
       "      <td>30.000000000</td>\n",
       "      <td>Sleep stage W</td>\n",
       "    </tr>\n",
       "    <tr>\n",
       "      <th>2</th>\n",
       "      <td>6000.261718750</td>\n",
       "      <td>30.000000000</td>\n",
       "      <td>Sleep stage W</td>\n",
       "    </tr>\n",
       "    <tr>\n",
       "      <th>3</th>\n",
       "      <td>6030.261718750</td>\n",
       "      <td>30.000000000</td>\n",
       "      <td>Sleep stage W</td>\n",
       "    </tr>\n",
       "    <tr>\n",
       "      <th>4</th>\n",
       "      <td>6060.261718750</td>\n",
       "      <td>30.000000000</td>\n",
       "      <td>Sleep stage W</td>\n",
       "    </tr>\n",
       "    <tr>\n",
       "      <th>...</th>\n",
       "      <td>...</td>\n",
       "      <td>...</td>\n",
       "      <td>...</td>\n",
       "    </tr>\n",
       "    <tr>\n",
       "      <th>953</th>\n",
       "      <td>34530.261718750</td>\n",
       "      <td>30.000000000</td>\n",
       "      <td>Sleep stage ?</td>\n",
       "    </tr>\n",
       "    <tr>\n",
       "      <th>954</th>\n",
       "      <td>34560.261718750</td>\n",
       "      <td>30.000000000</td>\n",
       "      <td>Sleep stage ?</td>\n",
       "    </tr>\n",
       "    <tr>\n",
       "      <th>955</th>\n",
       "      <td>34590.261718750</td>\n",
       "      <td>30.000000000</td>\n",
       "      <td>Sleep stage ?</td>\n",
       "    </tr>\n",
       "    <tr>\n",
       "      <th>956</th>\n",
       "      <td>34620.261718750</td>\n",
       "      <td>30.000000000</td>\n",
       "      <td>Sleep stage ?</td>\n",
       "    </tr>\n",
       "    <tr>\n",
       "      <th>957</th>\n",
       "      <td>34650.261718750</td>\n",
       "      <td>25.738281250</td>\n",
       "      <td>Sleep stage ?</td>\n",
       "    </tr>\n",
       "  </tbody>\n",
       "</table>\n",
       "<p>958 rows × 3 columns</p>\n",
       "</div>"
      ],
      "text/plain": [
       "              onset     duration    description\n",
       "0    5940.261718750 30.000000000  Sleep stage W\n",
       "1    5970.261718750 30.000000000  Sleep stage W\n",
       "2    6000.261718750 30.000000000  Sleep stage W\n",
       "3    6030.261718750 30.000000000  Sleep stage W\n",
       "4    6060.261718750 30.000000000  Sleep stage W\n",
       "..              ...          ...            ...\n",
       "953 34530.261718750 30.000000000  Sleep stage ?\n",
       "954 34560.261718750 30.000000000  Sleep stage ?\n",
       "955 34590.261718750 30.000000000  Sleep stage ?\n",
       "956 34620.261718750 30.000000000  Sleep stage ?\n",
       "957 34650.261718750 25.738281250  Sleep stage ?\n",
       "\n",
       "[958 rows x 3 columns]"
      ]
     },
     "execution_count": 71,
     "metadata": {},
     "output_type": "execute_result"
    }
   ],
   "source": [
    "subdf"
   ]
  },
  {
   "cell_type": "code",
   "execution_count": 72,
   "id": "a0aa8624-639d-4ed9-b71a-60dc7153fdf9",
   "metadata": {
    "execution": {
     "iopub.execute_input": "2022-08-10T02:51:12.193751Z",
     "iopub.status.busy": "2022-08-10T02:51:12.192866Z",
     "iopub.status.idle": "2022-08-10T02:51:12.201562Z",
     "shell.execute_reply": "2022-08-10T02:51:12.199788Z",
     "shell.execute_reply.started": "2022-08-10T02:51:12.193688Z"
    },
    "tags": []
   },
   "outputs": [],
   "source": [
    "stages = subdf['description']"
   ]
  },
  {
   "cell_type": "code",
   "execution_count": 73,
   "id": "be0e6521-5069-402d-84e9-6610562e6eac",
   "metadata": {
    "execution": {
     "iopub.execute_input": "2022-08-10T02:51:12.907191Z",
     "iopub.status.busy": "2022-08-10T02:51:12.906346Z",
     "iopub.status.idle": "2022-08-10T02:51:12.932079Z",
     "shell.execute_reply": "2022-08-10T02:51:12.930509Z",
     "shell.execute_reply.started": "2022-08-10T02:51:12.907130Z"
    },
    "tags": []
   },
   "outputs": [],
   "source": [
    "switch = [0]\n",
    "\n",
    "i = 0\n",
    "while i < len(stages)-1:\n",
    "    cur = stages[i]\n",
    "    nxt = stages[i+1]\n",
    "    if cur!=nxt:\n",
    "        switch.append(i+1)\n",
    "    i+=1"
   ]
  },
  {
   "cell_type": "code",
   "execution_count": 74,
   "id": "1b3c5a9f-ce9d-434e-983e-6e5f37dadd15",
   "metadata": {
    "execution": {
     "iopub.execute_input": "2022-08-10T02:51:22.307219Z",
     "iopub.status.busy": "2022-08-10T02:51:22.306332Z",
     "iopub.status.idle": "2022-08-10T02:51:22.316078Z",
     "shell.execute_reply": "2022-08-10T02:51:22.314507Z",
     "shell.execute_reply.started": "2022-08-10T02:51:22.307154Z"
    },
    "tags": []
   },
   "outputs": [],
   "source": [
    "stagedf = subdf.iloc[switch].reset_index(drop=True)"
   ]
  },
  {
   "cell_type": "code",
   "execution_count": 75,
   "id": "f1181dff-57fa-49fb-ae7c-8fc21174a974",
   "metadata": {
    "execution": {
     "iopub.execute_input": "2022-08-10T02:51:23.261021Z",
     "iopub.status.busy": "2022-08-10T02:51:23.260163Z",
     "iopub.status.idle": "2022-08-10T02:51:23.270414Z",
     "shell.execute_reply": "2022-08-10T02:51:23.268765Z",
     "shell.execute_reply.started": "2022-08-10T02:51:23.260957Z"
    },
    "tags": []
   },
   "outputs": [],
   "source": [
    "stagedf = stagedf[['onset','description']]"
   ]
  },
  {
   "cell_type": "code",
   "execution_count": 76,
   "id": "799cc3c8-e5b3-4916-947d-8c35c1ef7d5d",
   "metadata": {
    "execution": {
     "iopub.execute_input": "2022-08-10T02:51:23.984461Z",
     "iopub.status.busy": "2022-08-10T02:51:23.983614Z",
     "iopub.status.idle": "2022-08-10T02:51:24.001503Z",
     "shell.execute_reply": "2022-08-10T02:51:23.999866Z",
     "shell.execute_reply.started": "2022-08-10T02:51:23.984386Z"
    },
    "tags": []
   },
   "outputs": [
    {
     "data": {
      "text/html": [
       "<div>\n",
       "<style scoped>\n",
       "    .dataframe tbody tr th:only-of-type {\n",
       "        vertical-align: middle;\n",
       "    }\n",
       "\n",
       "    .dataframe tbody tr th {\n",
       "        vertical-align: top;\n",
       "    }\n",
       "\n",
       "    .dataframe thead th {\n",
       "        text-align: right;\n",
       "    }\n",
       "</style>\n",
       "<table border=\"1\" class=\"dataframe\">\n",
       "  <thead>\n",
       "    <tr style=\"text-align: right;\">\n",
       "      <th></th>\n",
       "      <th>onset</th>\n",
       "      <th>description</th>\n",
       "    </tr>\n",
       "  </thead>\n",
       "  <tbody>\n",
       "    <tr>\n",
       "      <th>0</th>\n",
       "      <td>5940.261718750</td>\n",
       "      <td>Sleep stage W</td>\n",
       "    </tr>\n",
       "    <tr>\n",
       "      <th>1</th>\n",
       "      <td>6300.261718750</td>\n",
       "      <td>Sleep stage N1</td>\n",
       "    </tr>\n",
       "    <tr>\n",
       "      <th>2</th>\n",
       "      <td>6390.261718750</td>\n",
       "      <td>Sleep stage N2</td>\n",
       "    </tr>\n",
       "    <tr>\n",
       "      <th>3</th>\n",
       "      <td>6810.261718750</td>\n",
       "      <td>Sleep stage N3</td>\n",
       "    </tr>\n",
       "    <tr>\n",
       "      <th>4</th>\n",
       "      <td>9330.261718750</td>\n",
       "      <td>Sleep stage N2</td>\n",
       "    </tr>\n",
       "  </tbody>\n",
       "</table>\n",
       "</div>"
      ],
      "text/plain": [
       "           onset     description\n",
       "0 5940.261718750   Sleep stage W\n",
       "1 6300.261718750  Sleep stage N1\n",
       "2 6390.261718750  Sleep stage N2\n",
       "3 6810.261718750  Sleep stage N3\n",
       "4 9330.261718750  Sleep stage N2"
      ]
     },
     "execution_count": 76,
     "metadata": {},
     "output_type": "execute_result"
    }
   ],
   "source": [
    "stagedf.head()"
   ]
  },
  {
   "cell_type": "code",
   "execution_count": 77,
   "id": "be9a4848-f8b1-4de4-95d2-1b112bc81553",
   "metadata": {
    "execution": {
     "iopub.execute_input": "2022-08-10T02:51:25.013329Z",
     "iopub.status.busy": "2022-08-10T02:51:25.012486Z",
     "iopub.status.idle": "2022-08-10T02:51:25.029998Z",
     "shell.execute_reply": "2022-08-10T02:51:25.028594Z",
     "shell.execute_reply.started": "2022-08-10T02:51:25.013267Z"
    },
    "tags": []
   },
   "outputs": [
    {
     "data": {
      "text/html": [
       "<div>\n",
       "<style scoped>\n",
       "    .dataframe tbody tr th:only-of-type {\n",
       "        vertical-align: middle;\n",
       "    }\n",
       "\n",
       "    .dataframe tbody tr th {\n",
       "        vertical-align: top;\n",
       "    }\n",
       "\n",
       "    .dataframe thead th {\n",
       "        text-align: right;\n",
       "    }\n",
       "</style>\n",
       "<table border=\"1\" class=\"dataframe\">\n",
       "  <thead>\n",
       "    <tr style=\"text-align: right;\">\n",
       "      <th></th>\n",
       "      <th>onset</th>\n",
       "      <th>description</th>\n",
       "    </tr>\n",
       "  </thead>\n",
       "  <tbody>\n",
       "    <tr>\n",
       "      <th>65</th>\n",
       "      <td>30960.261718750</td>\n",
       "      <td>Sleep stage N1</td>\n",
       "    </tr>\n",
       "    <tr>\n",
       "      <th>66</th>\n",
       "      <td>31050.261718750</td>\n",
       "      <td>Sleep stage ?</td>\n",
       "    </tr>\n",
       "    <tr>\n",
       "      <th>67</th>\n",
       "      <td>31080.261718750</td>\n",
       "      <td>Sleep stage N2</td>\n",
       "    </tr>\n",
       "    <tr>\n",
       "      <th>68</th>\n",
       "      <td>31560.261718750</td>\n",
       "      <td>Sleep stage W</td>\n",
       "    </tr>\n",
       "    <tr>\n",
       "      <th>69</th>\n",
       "      <td>31590.261718750</td>\n",
       "      <td>Sleep stage ?</td>\n",
       "    </tr>\n",
       "  </tbody>\n",
       "</table>\n",
       "</div>"
      ],
      "text/plain": [
       "             onset     description\n",
       "65 30960.261718750  Sleep stage N1\n",
       "66 31050.261718750   Sleep stage ?\n",
       "67 31080.261718750  Sleep stage N2\n",
       "68 31560.261718750   Sleep stage W\n",
       "69 31590.261718750   Sleep stage ?"
      ]
     },
     "execution_count": 77,
     "metadata": {},
     "output_type": "execute_result"
    }
   ],
   "source": [
    "stagedf.tail()"
   ]
  },
  {
   "cell_type": "code",
   "execution_count": 78,
   "id": "30945cd8-fd17-41be-8ef5-b971301663bc",
   "metadata": {
    "execution": {
     "iopub.execute_input": "2022-08-10T02:52:34.871849Z",
     "iopub.status.busy": "2022-08-10T02:52:34.870971Z",
     "iopub.status.idle": "2022-08-10T02:52:34.880037Z",
     "shell.execute_reply": "2022-08-10T02:52:34.878276Z",
     "shell.execute_reply.started": "2022-08-10T02:52:34.871788Z"
    },
    "tags": []
   },
   "outputs": [],
   "source": [
    "onset = list(stagedf.onset)"
   ]
  },
  {
   "cell_type": "code",
   "execution_count": 79,
   "id": "56d3c1fc-c477-4516-94aa-592ee71838de",
   "metadata": {
    "collapsed": true,
    "execution": {
     "iopub.execute_input": "2022-08-10T02:52:40.565078Z",
     "iopub.status.busy": "2022-08-10T02:52:40.564089Z",
     "iopub.status.idle": "2022-08-10T02:52:40.577475Z",
     "shell.execute_reply": "2022-08-10T02:52:40.575938Z",
     "shell.execute_reply.started": "2022-08-10T02:52:40.565011Z"
    },
    "jupyter": {
     "outputs_hidden": true
    },
    "tags": []
   },
   "outputs": [
    {
     "data": {
      "text/plain": [
       "[5940.26171875,\n",
       " 6300.26171875,\n",
       " 6390.26171875,\n",
       " 6810.26171875,\n",
       " 9330.26171875,\n",
       " 9360.26171875,\n",
       " 9750.26171875,\n",
       " 10710.26171875,\n",
       " 11970.26171875,\n",
       " 12690.26171875,\n",
       " 15150.26171875,\n",
       " 15360.26171875,\n",
       " 15990.26171875,\n",
       " 16020.26171875,\n",
       " 16770.26171875,\n",
       " 16830.26171875,\n",
       " 16950.26171875,\n",
       " 16980.26171875,\n",
       " 18450.26171875,\n",
       " 18480.26171875,\n",
       " 18840.26171875,\n",
       " 19470.26171875,\n",
       " 19590.26171875,\n",
       " 19620.26171875,\n",
       " 19650.26171875,\n",
       " 19680.26171875,\n",
       " 19710.26171875,\n",
       " 19740.26171875,\n",
       " 19800.26171875,\n",
       " 19890.26171875,\n",
       " 19920.26171875,\n",
       " 19980.26171875,\n",
       " 20850.26171875,\n",
       " 20880.26171875,\n",
       " 20970.26171875,\n",
       " 21180.26171875,\n",
       " 21240.26171875,\n",
       " 21300.26171875,\n",
       " 21360.26171875,\n",
       " 22830.26171875,\n",
       " 22860.26171875,\n",
       " 22980.26171875,\n",
       " 23010.26171875,\n",
       " 23040.26171875,\n",
       " 23070.26171875,\n",
       " 23370.26171875,\n",
       " 23790.26171875,\n",
       " 23850.26171875,\n",
       " 23880.26171875,\n",
       " 24480.26171875,\n",
       " 24510.26171875,\n",
       " 25470.26171875,\n",
       " 25530.26171875,\n",
       " 25920.26171875,\n",
       " 26010.26171875,\n",
       " 26040.26171875,\n",
       " 27060.26171875,\n",
       " 28080.26171875,\n",
       " 28110.26171875,\n",
       " 28170.26171875,\n",
       " 30060.26171875,\n",
       " 30810.26171875,\n",
       " 30840.26171875,\n",
       " 30870.26171875,\n",
       " 30900.26171875,\n",
       " 30960.26171875,\n",
       " 31050.26171875,\n",
       " 31080.26171875,\n",
       " 31560.26171875,\n",
       " 31590.26171875]"
      ]
     },
     "execution_count": 79,
     "metadata": {},
     "output_type": "execute_result"
    }
   ],
   "source": [
    "onset"
   ]
  },
  {
   "cell_type": "code",
   "execution_count": 80,
   "id": "6c0a17c3-c24c-455f-91a7-2c02c3ed8e8f",
   "metadata": {
    "execution": {
     "iopub.execute_input": "2022-08-10T02:52:51.305031Z",
     "iopub.status.busy": "2022-08-10T02:52:51.304157Z",
     "iopub.status.idle": "2022-08-10T02:52:51.315330Z",
     "shell.execute_reply": "2022-08-10T02:52:51.313876Z",
     "shell.execute_reply.started": "2022-08-10T02:52:51.304967Z"
    },
    "tags": []
   },
   "outputs": [
    {
     "data": {
      "text/plain": [
       "1612867.0"
      ]
     },
     "execution_count": 80,
     "metadata": {},
     "output_type": "execute_result"
    }
   ],
   "source": [
    "onset[1]*256"
   ]
  },
  {
   "cell_type": "code",
   "execution_count": 45,
   "id": "be136160-95f7-4a4f-9027-07faa7e64492",
   "metadata": {
    "execution": {
     "iopub.execute_input": "2022-08-10T02:22:17.941956Z",
     "iopub.status.busy": "2022-08-10T02:22:17.940988Z",
     "iopub.status.idle": "2022-08-10T02:22:17.949717Z",
     "shell.execute_reply": "2022-08-10T02:22:17.948041Z",
     "shell.execute_reply.started": "2022-08-10T02:22:17.941894Z"
    },
    "tags": []
   },
   "outputs": [],
   "source": [
    "import numpy as np"
   ]
  },
  {
   "cell_type": "code",
   "execution_count": 46,
   "id": "65545767-b6a2-44ac-a919-610ea14c846e",
   "metadata": {
    "execution": {
     "iopub.execute_input": "2022-08-10T02:22:19.906257Z",
     "iopub.status.busy": "2022-08-10T02:22:19.905265Z",
     "iopub.status.idle": "2022-08-10T02:22:20.327092Z",
     "shell.execute_reply": "2022-08-10T02:22:20.326232Z",
     "shell.execute_reply.started": "2022-08-10T02:22:19.906193Z"
    },
    "tags": []
   },
   "outputs": [],
   "source": [
    "eegpath = '/workspace/Competition/PSG/01_DATA/eeg_7_channel/1_4789.npy'\n",
    "eegarray = np.load(eegpath)"
   ]
  },
  {
   "cell_type": "code",
   "execution_count": 47,
   "id": "5fb24d91-3a17-4d2d-b177-48ae5758d898",
   "metadata": {
    "execution": {
     "iopub.execute_input": "2022-08-10T02:22:23.850111Z",
     "iopub.status.busy": "2022-08-10T02:22:23.848969Z",
     "iopub.status.idle": "2022-08-10T02:22:23.861548Z",
     "shell.execute_reply": "2022-08-10T02:22:23.859910Z",
     "shell.execute_reply.started": "2022-08-10T02:22:23.850043Z"
    },
    "tags": []
   },
   "outputs": [
    {
     "data": {
      "text/plain": [
       "(7, 8877056)"
      ]
     },
     "execution_count": 47,
     "metadata": {},
     "output_type": "execute_result"
    }
   ],
   "source": [
    "eegarray.shape"
   ]
  },
  {
   "cell_type": "code",
   "execution_count": 48,
   "id": "c64ddb40-01e5-41f5-b0a4-15b5fae6d85d",
   "metadata": {
    "execution": {
     "iopub.execute_input": "2022-08-10T02:22:32.958231Z",
     "iopub.status.busy": "2022-08-10T02:22:32.957064Z",
     "iopub.status.idle": "2022-08-10T02:22:32.969831Z",
     "shell.execute_reply": "2022-08-10T02:22:32.968166Z",
     "shell.execute_reply.started": "2022-08-10T02:22:32.958164Z"
    },
    "tags": []
   },
   "outputs": [
    {
     "data": {
      "text/plain": [
       "34676.0"
      ]
     },
     "execution_count": 48,
     "metadata": {},
     "output_type": "execute_result"
    }
   ],
   "source": [
    "8877056/256"
   ]
  },
  {
   "cell_type": "code",
   "execution_count": 50,
   "id": "e1196627-75cd-4217-886c-f5163c4e8cce",
   "metadata": {
    "execution": {
     "iopub.execute_input": "2022-08-10T02:23:16.905041Z",
     "iopub.status.busy": "2022-08-10T02:23:16.903923Z",
     "iopub.status.idle": "2022-08-10T02:23:16.916701Z",
     "shell.execute_reply": "2022-08-10T02:23:16.915049Z",
     "shell.execute_reply.started": "2022-08-10T02:23:16.904973Z"
    },
    "tags": []
   },
   "outputs": [
    {
     "data": {
      "text/plain": [
       "120.93852233984374"
      ]
     },
     "execution_count": 50,
     "metadata": {},
     "output_type": "execute_result"
    }
   ],
   "source": [
    "30960.261719/256"
   ]
  },
  {
   "cell_type": "code",
   "execution_count": 51,
   "id": "8d65d67f-cbf4-4b12-bb0b-b65dac05986f",
   "metadata": {
    "execution": {
     "iopub.execute_input": "2022-08-10T02:23:32.939753Z",
     "iopub.status.busy": "2022-08-10T02:23:32.938887Z",
     "iopub.status.idle": "2022-08-10T02:23:32.957128Z",
     "shell.execute_reply": "2022-08-10T02:23:32.955841Z",
     "shell.execute_reply.started": "2022-08-10T02:23:32.939691Z"
    },
    "tags": []
   },
   "outputs": [
    {
     "data": {
      "text/html": [
       "<div>\n",
       "<style scoped>\n",
       "    .dataframe tbody tr th:only-of-type {\n",
       "        vertical-align: middle;\n",
       "    }\n",
       "\n",
       "    .dataframe tbody tr th {\n",
       "        vertical-align: top;\n",
       "    }\n",
       "\n",
       "    .dataframe thead th {\n",
       "        text-align: right;\n",
       "    }\n",
       "</style>\n",
       "<table border=\"1\" class=\"dataframe\">\n",
       "  <thead>\n",
       "    <tr style=\"text-align: right;\">\n",
       "      <th></th>\n",
       "      <th>onset</th>\n",
       "      <th>duration</th>\n",
       "      <th>description</th>\n",
       "    </tr>\n",
       "  </thead>\n",
       "  <tbody>\n",
       "    <tr>\n",
       "      <th>0</th>\n",
       "      <td>0.335938</td>\n",
       "      <td>0.0</td>\n",
       "      <td>Start Recording</td>\n",
       "    </tr>\n",
       "    <tr>\n",
       "      <th>1</th>\n",
       "      <td>0.335938</td>\n",
       "      <td>0.0</td>\n",
       "      <td>Montage:NCH_PSG_STANDARD, Ref</td>\n",
       "    </tr>\n",
       "    <tr>\n",
       "      <th>2</th>\n",
       "      <td>0.335938</td>\n",
       "      <td>0.0</td>\n",
       "      <td>Montage:NCH_PSG_STANDARD, Ref</td>\n",
       "    </tr>\n",
       "    <tr>\n",
       "      <th>3</th>\n",
       "      <td>0.460938</td>\n",
       "      <td>0.0</td>\n",
       "      <td>Recording Analyzer - ECG</td>\n",
       "    </tr>\n",
       "    <tr>\n",
       "      <th>4</th>\n",
       "      <td>1.007812</td>\n",
       "      <td>0.0</td>\n",
       "      <td>Video Recording ON</td>\n",
       "    </tr>\n",
       "  </tbody>\n",
       "</table>\n",
       "</div>"
      ],
      "text/plain": [
       "      onset  duration                    description\n",
       "0  0.335938       0.0                Start Recording\n",
       "1  0.335938       0.0  Montage:NCH_PSG_STANDARD, Ref\n",
       "2  0.335938       0.0  Montage:NCH_PSG_STANDARD, Ref\n",
       "3  0.460938       0.0       Recording Analyzer - ECG\n",
       "4  1.007812       0.0             Video Recording ON"
      ]
     },
     "execution_count": 51,
     "metadata": {},
     "output_type": "execute_result"
    }
   ],
   "source": [
    "data.head()"
   ]
  },
  {
   "cell_type": "code",
   "execution_count": 52,
   "id": "9ee77015-a421-49e6-9376-8217a5a438d0",
   "metadata": {
    "execution": {
     "iopub.execute_input": "2022-08-10T02:23:43.775407Z",
     "iopub.status.busy": "2022-08-10T02:23:43.774525Z",
     "iopub.status.idle": "2022-08-10T02:23:43.785809Z",
     "shell.execute_reply": "2022-08-10T02:23:43.784311Z",
     "shell.execute_reply.started": "2022-08-10T02:23:43.775345Z"
    },
    "tags": []
   },
   "outputs": [
    {
     "data": {
      "text/plain": [
       "0.00390625"
      ]
     },
     "execution_count": 52,
     "metadata": {},
     "output_type": "execute_result"
    }
   ],
   "source": [
    "1/256"
   ]
  },
  {
   "cell_type": "code",
   "execution_count": 53,
   "id": "1d97f9a5-0374-4a28-ac5c-bc982455a9b9",
   "metadata": {
    "execution": {
     "iopub.execute_input": "2022-08-10T02:24:22.022931Z",
     "iopub.status.busy": "2022-08-10T02:24:22.022057Z",
     "iopub.status.idle": "2022-08-10T02:24:22.033389Z",
     "shell.execute_reply": "2022-08-10T02:24:22.032088Z",
     "shell.execute_reply.started": "2022-08-10T02:24:22.022870Z"
    },
    "tags": []
   },
   "outputs": [
    {
     "data": {
      "text/plain": [
       "86.000128"
      ]
     },
     "execution_count": 53,
     "metadata": {},
     "output_type": "execute_result"
    }
   ],
   "source": [
    "0.335938/(1/256)"
   ]
  },
  {
   "cell_type": "code",
   "execution_count": 54,
   "id": "b62dd0fd-031b-4d0e-bb5d-46cc632f7d51",
   "metadata": {
    "execution": {
     "iopub.execute_input": "2022-08-10T02:27:09.077341Z",
     "iopub.status.busy": "2022-08-10T02:27:09.076339Z",
     "iopub.status.idle": "2022-08-10T02:27:09.088544Z",
     "shell.execute_reply": "2022-08-10T02:27:09.086815Z",
     "shell.execute_reply.started": "2022-08-10T02:27:09.077274Z"
    },
    "tags": []
   },
   "outputs": [
    {
     "data": {
      "text/plain": [
       "34676.0"
      ]
     },
     "execution_count": 54,
     "metadata": {},
     "output_type": "execute_result"
    }
   ],
   "source": [
    "34650.26171875 + 25.73828125"
   ]
  },
  {
   "cell_type": "code",
   "execution_count": 56,
   "id": "acf9c0f4-9d42-4832-9f28-d33b236fcdff",
   "metadata": {
    "execution": {
     "iopub.execute_input": "2022-08-10T02:27:30.269980Z",
     "iopub.status.busy": "2022-08-10T02:27:30.268961Z",
     "iopub.status.idle": "2022-08-10T02:27:30.288412Z",
     "shell.execute_reply": "2022-08-10T02:27:30.287027Z",
     "shell.execute_reply.started": "2022-08-10T02:27:30.269912Z"
    },
    "tags": []
   },
   "outputs": [
    {
     "data": {
      "text/html": [
       "<div>\n",
       "<style scoped>\n",
       "    .dataframe tbody tr th:only-of-type {\n",
       "        vertical-align: middle;\n",
       "    }\n",
       "\n",
       "    .dataframe tbody tr th {\n",
       "        vertical-align: top;\n",
       "    }\n",
       "\n",
       "    .dataframe thead th {\n",
       "        text-align: right;\n",
       "    }\n",
       "</style>\n",
       "<table border=\"1\" class=\"dataframe\">\n",
       "  <thead>\n",
       "    <tr style=\"text-align: right;\">\n",
       "      <th></th>\n",
       "      <th>onset</th>\n",
       "      <th>description</th>\n",
       "    </tr>\n",
       "  </thead>\n",
       "  <tbody>\n",
       "    <tr>\n",
       "      <th>0</th>\n",
       "      <td>5940.261719</td>\n",
       "      <td>Sleep stage W</td>\n",
       "    </tr>\n",
       "    <tr>\n",
       "      <th>1</th>\n",
       "      <td>6300.261719</td>\n",
       "      <td>Sleep stage N1</td>\n",
       "    </tr>\n",
       "    <tr>\n",
       "      <th>2</th>\n",
       "      <td>6390.261719</td>\n",
       "      <td>Sleep stage N2</td>\n",
       "    </tr>\n",
       "    <tr>\n",
       "      <th>3</th>\n",
       "      <td>6810.261719</td>\n",
       "      <td>Sleep stage N3</td>\n",
       "    </tr>\n",
       "    <tr>\n",
       "      <th>4</th>\n",
       "      <td>9330.261719</td>\n",
       "      <td>Sleep stage N2</td>\n",
       "    </tr>\n",
       "  </tbody>\n",
       "</table>\n",
       "</div>"
      ],
      "text/plain": [
       "         onset     description\n",
       "0  5940.261719   Sleep stage W\n",
       "1  6300.261719  Sleep stage N1\n",
       "2  6390.261719  Sleep stage N2\n",
       "3  6810.261719  Sleep stage N3\n",
       "4  9330.261719  Sleep stage N2"
      ]
     },
     "execution_count": 56,
     "metadata": {},
     "output_type": "execute_result"
    }
   ],
   "source": [
    "stagedf.head()"
   ]
  },
  {
   "cell_type": "code",
   "execution_count": 57,
   "id": "17de89bd-7b25-492f-940d-204c4b289bb3",
   "metadata": {
    "execution": {
     "iopub.execute_input": "2022-08-10T02:27:42.426942Z",
     "iopub.status.busy": "2022-08-10T02:27:42.425936Z",
     "iopub.status.idle": "2022-08-10T02:27:42.438367Z",
     "shell.execute_reply": "2022-08-10T02:27:42.436268Z",
     "shell.execute_reply.started": "2022-08-10T02:27:42.426873Z"
    },
    "tags": []
   },
   "outputs": [
    {
     "data": {
      "text/plain": [
       "23.20414733984375"
      ]
     },
     "execution_count": 57,
     "metadata": {},
     "output_type": "execute_result"
    }
   ],
   "source": [
    "5940.261719/256"
   ]
  },
  {
   "cell_type": "code",
   "execution_count": 59,
   "id": "a894d961-766d-48cf-8ba0-95c106d7b190",
   "metadata": {
    "execution": {
     "iopub.execute_input": "2022-08-10T02:47:25.237672Z",
     "iopub.status.busy": "2022-08-10T02:47:25.236790Z",
     "iopub.status.idle": "2022-08-10T02:47:25.247845Z",
     "shell.execute_reply": "2022-08-10T02:47:25.246386Z",
     "shell.execute_reply.started": "2022-08-10T02:47:25.237609Z"
    },
    "tags": []
   },
   "outputs": [
    {
     "data": {
      "text/plain": [
       "1520707.0"
      ]
     },
     "execution_count": 59,
     "metadata": {},
     "output_type": "execute_result"
    }
   ],
   "source": [
    "5940.26171875*256"
   ]
  },
  {
   "cell_type": "code",
   "execution_count": null,
   "id": "8f87e66c-6367-4dfa-a652-b0c589f83678",
   "metadata": {},
   "outputs": [],
   "source": []
  },
  {
   "cell_type": "code",
   "execution_count": null,
   "id": "ddbbe7ef-8ab8-4e24-b171-16e556037510",
   "metadata": {},
   "outputs": [],
   "source": []
  },
  {
   "cell_type": "code",
   "execution_count": 81,
   "id": "eecbb3c5-5a9a-444b-bcde-4b25d99938f0",
   "metadata": {
    "collapsed": true,
    "execution": {
     "iopub.execute_input": "2022-08-10T04:09:45.671730Z",
     "iopub.status.busy": "2022-08-10T04:09:45.670755Z",
     "iopub.status.idle": "2022-08-10T04:09:45.686544Z",
     "shell.execute_reply": "2022-08-10T04:09:45.684826Z",
     "shell.execute_reply.started": "2022-08-10T04:09:45.671661Z"
    },
    "jupyter": {
     "outputs_hidden": true
    },
    "tags": []
   },
   "outputs": [
    {
     "data": {
      "text/plain": [
       "['1_4789.tsv',\n",
       " '10_22339.tsv',\n",
       " '16_24241.tsv',\n",
       " '22_23233.tsv',\n",
       " '25_10579.tsv',\n",
       " '25_18085.tsv',\n",
       " '28_15280.tsv',\n",
       " '31_4429.tsv',\n",
       " '37_14779.tsv',\n",
       " '7_12595.tsv',\n",
       " '40_14503.tsv',\n",
       " '43_175.tsv',\n",
       " '46_11305.tsv',\n",
       " '55_6112.tsv',\n",
       " '61_19477.tsv',\n",
       " '64_14908.tsv',\n",
       " '64_25396.tsv',\n",
       " '67_5998.tsv',\n",
       " '70_20743.tsv',\n",
       " '82_20809.tsv',\n",
       " '100_23083.tsv',\n",
       " '103_12325.tsv',\n",
       " '115_22774.tsv',\n",
       " '121_23845.tsv',\n",
       " '127_19126.tsv',\n",
       " '130_5164.tsv',\n",
       " '136_4501.tsv',\n",
       " '91_15028.tsv',\n",
       " '91_18331.tsv',\n",
       " '91_3787.tsv',\n",
       " '139_20275.tsv',\n",
       " '145_1537.tsv',\n",
       " '148_568.tsv',\n",
       " '151_23734.tsv',\n",
       " '154_18469.tsv',\n",
       " '157_6391.tsv',\n",
       " '160_11500.tsv',\n",
       " '160_12856.tsv',\n",
       " '160_2740.tsv',\n",
       " '163_20485.tsv',\n",
       " '166_10357.tsv',\n",
       " '181_12274.tsv',\n",
       " '184_2509.tsv',\n",
       " '187_6160.tsv',\n",
       " '190_9877.tsv',\n",
       " '202_13666.tsv',\n",
       " '205_23176.tsv',\n",
       " '211_25741.tsv',\n",
       " '211_8290.tsv',\n",
       " '220_7708.tsv']"
      ]
     },
     "execution_count": 81,
     "metadata": {},
     "output_type": "execute_result"
    }
   ],
   "source": [
    "tsv_files"
   ]
  },
  {
   "cell_type": "code",
   "execution_count": 82,
   "id": "a3873de4-93ad-4ab7-b973-f00cfaa822c0",
   "metadata": {
    "execution": {
     "iopub.execute_input": "2022-08-10T04:15:41.774287Z",
     "iopub.status.busy": "2022-08-10T04:15:41.773297Z",
     "iopub.status.idle": "2022-08-10T04:15:42.511354Z",
     "shell.execute_reply": "2022-08-10T04:15:42.510540Z",
     "shell.execute_reply.started": "2022-08-10T04:15:41.774219Z"
    },
    "tags": []
   },
   "outputs": [
    {
     "name": "stdout",
     "output_type": "stream",
     "text": [
      "1_4789.tsv\n",
      "10_22339.tsv\n",
      "16_24241.tsv\n",
      "22_23233.tsv\n",
      "25_10579.tsv\n",
      "25_18085.tsv\n",
      "28_15280.tsv\n",
      "31_4429.tsv\n",
      "37_14779.tsv\n",
      "7_12595.tsv\n",
      "40_14503.tsv\n",
      "43_175.tsv\n",
      "46_11305.tsv\n",
      "55_6112.tsv\n",
      "61_19477.tsv\n",
      "64_14908.tsv\n",
      "64_25396.tsv\n",
      "67_5998.tsv\n",
      "70_20743.tsv\n",
      "82_20809.tsv\n",
      "100_23083.tsv\n",
      "103_12325.tsv\n",
      "115_22774.tsv\n",
      "121_23845.tsv\n",
      "127_19126.tsv\n",
      "130_5164.tsv\n",
      "136_4501.tsv\n",
      "91_15028.tsv\n",
      "91_18331.tsv\n",
      "91_3787.tsv\n",
      "139_20275.tsv\n",
      "145_1537.tsv\n",
      "148_568.tsv\n",
      "151_23734.tsv\n",
      "154_18469.tsv\n",
      "157_6391.tsv\n",
      "160_11500.tsv\n",
      "160_12856.tsv\n",
      "160_2740.tsv\n",
      "163_20485.tsv\n",
      "166_10357.tsv\n",
      "181_12274.tsv\n",
      "184_2509.tsv\n",
      "187_6160.tsv\n",
      "190_9877.tsv\n",
      "202_13666.tsv\n",
      "205_23176.tsv\n",
      "211_25741.tsv\n",
      "211_8290.tsv\n",
      "220_7708.tsv\n"
     ]
    }
   ],
   "source": [
    "outpath = '/workspace/Competition/PSG/01_DATA/eeg_7_channel/stage_csv/'\n",
    "\n",
    "for tsv in tsv_files:\n",
    "    datapath = os.path.join(raw_path, tsv)\n",
    "    data = pd.read_csv(datapath, delimiter='\\t')\n",
    "    subdf = data[data['description'].str.contains('stage')]\n",
    "    subdf = subdf.reset_index(drop=True)\n",
    "    stages = subdf['description']\n",
    "    # find state switches\n",
    "    switch = [0]\n",
    "    i = 0\n",
    "    while i < len(stages)-1:\n",
    "        cur = stages[i]\n",
    "        nxt = stages[i+1]\n",
    "        if cur!=nxt:\n",
    "            switch.append(i+1)\n",
    "        i+=1\n",
    "    #\n",
    "    stagedf = subdf.iloc[switch].reset_index(drop=True)\n",
    "    stagedf = stagedf[['onset','description']]\n",
    "    #\n",
    "    savename = tsv.split('.')[0]\n",
    "    savepath = os.path.join(outpath, savename+'.csv')\n",
    "    stagedf.to_csv(savepath)\n",
    "    print(tsv)"
   ]
  }
 ],
 "metadata": {
  "kernelspec": {
   "display_name": "Python 3 (ipykernel)",
   "language": "python",
   "name": "python3"
  },
  "language_info": {
   "codemirror_mode": {
    "name": "ipython",
    "version": 3
   },
   "file_extension": ".py",
   "mimetype": "text/x-python",
   "name": "python",
   "nbconvert_exporter": "python",
   "pygments_lexer": "ipython3",
   "version": "3.9.13"
  }
 },
 "nbformat": 4,
 "nbformat_minor": 5
}
