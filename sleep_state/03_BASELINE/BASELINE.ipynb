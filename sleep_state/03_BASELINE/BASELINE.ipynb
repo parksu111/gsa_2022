{
 "cells": [
  {
   "cell_type": "markdown",
   "id": "f0586cf1-ec10-4918-8118-960e1ff62c43",
   "metadata": {
    "tags": []
   },
   "source": [
    "# [모의 경진대회] 뇌파 데이터를 이용한 수면 단계 분류\n",
    "\n",
    "* 수치/시계열 분류 과제\n",
    "* 담당: 박성호M"
   ]
  },
  {
   "cell_type": "markdown",
   "id": "2212175e-6b15-4010-b503-51d405e2b63a",
   "metadata": {},
   "source": [
    "## 데이터 디렉토리 구조"
   ]
  },
  {
   "cell_type": "code",
   "execution_count": 93,
   "id": "166f738f-5b50-4dd6-972b-62f32905d505",
   "metadata": {
    "collapsed": true,
    "jupyter": {
     "outputs_hidden": true
    },
    "tags": []
   },
   "outputs": [
    {
     "ename": "SyntaxError",
     "evalue": "invalid decimal literal (2388783385.py, line 1)",
     "output_type": "error",
     "traceback": [
      "\u001b[0;36m  File \u001b[0;32m\"/tmp/ipykernel_1443/2388783385.py\"\u001b[0;36m, line \u001b[0;32m1\u001b[0m\n\u001b[0;31m    01_DATA/\u001b[0m\n\u001b[0m      ^\u001b[0m\n\u001b[0;31mSyntaxError\u001b[0m\u001b[0;31m:\u001b[0m invalid decimal literal\n"
     ]
    }
   ],
   "source": [
    "01_DATA/  \n",
    "  \\_train/  \n",
    "    \\_xxx.npy  \n",
    "    \\_yyy.npy\n",
    "    \\_zzz.npy\n",
    "    \\_...  \n",
    "  \\_test/  \n",
    "    \\_aaa.npy  \n",
    "    \\_bbb.npy  \n",
    "    \\_...  \n",
    "  \\_train_labels.csv  \n",
    "  \\_sample_submission.csv"
   ]
  },
  {
   "cell_type": "markdown",
   "id": "599fe221-aea7-4161-9a05-507960426cc7",
   "metadata": {},
   "source": [
    "## 필수 라이브러리 불러오기"
   ]
  },
  {
   "cell_type": "code",
   "execution_count": 1,
   "id": "a9f14069-1756-49cc-a63f-8665deab26fe",
   "metadata": {
    "execution": {
     "iopub.execute_input": "2022-08-30T11:57:46.028757Z",
     "iopub.status.busy": "2022-08-30T11:57:46.027647Z",
     "iopub.status.idle": "2022-08-30T11:57:48.841005Z",
     "shell.execute_reply": "2022-08-30T11:57:48.839177Z",
     "shell.execute_reply.started": "2022-08-30T11:57:46.028580Z"
    },
    "tags": []
   },
   "outputs": [],
   "source": [
    "import os\n",
    "import numpy as np\n",
    "import pandas as pd\n",
    "import random\n",
    "\n",
    "import torch\n",
    "import torch.nn as nn\n",
    "import torch.optim as optim\n",
    "from torch.utils.data import Dataset, DataLoader\n",
    "\n",
    "from tqdm import tqdm\n",
    "from sklearn.model_selection import train_test_split\n",
    "from sklearn.metrics import accuracy_score, f1_score"
   ]
  },
  {
   "cell_type": "markdown",
   "id": "c609a58a-dee2-4dc2-9a50-48ee07db5d16",
   "metadata": {},
   "source": [
    "## 하이퍼파라미터 및 기타 인자 설정"
   ]
  },
  {
   "cell_type": "markdown",
   "id": "d683ab85-ae86-4529-bbda-2230848407ba",
   "metadata": {
    "tags": []
   },
   "source": [
    "#### 데이터 경로"
   ]
  },
  {
   "cell_type": "code",
   "execution_count": 2,
   "id": "310bb5c2-e66e-4635-a354-7da873df89f2",
   "metadata": {
    "execution": {
     "iopub.execute_input": "2022-08-30T11:58:03.267504Z",
     "iopub.status.busy": "2022-08-30T11:58:03.265981Z",
     "iopub.status.idle": "2022-08-30T11:58:03.279293Z",
     "shell.execute_reply": "2022-08-30T11:58:03.277393Z",
     "shell.execute_reply.started": "2022-08-30T11:58:03.267398Z"
    },
    "tags": []
   },
   "outputs": [],
   "source": [
    "# 데이터 디렉토리 및 클래스 개수 \n",
    "DATA_DIR = '/workspace/Competition/PSG/01_DATA/trial3'\n",
    "label_dir = os.path.join(DATA_DIR, 'train_labels.csv')\n",
    "train_dir = os.path.join(DATA_DIR, 'train')\n",
    "test_dir = os.path.join(DATA_DIR, 'test')\n",
    "norm_dir = os.path.join(DATA_DIR, 'norm.npy')"
   ]
  },
  {
   "cell_type": "markdown",
   "id": "b4f198f3-bc73-4d67-b3b1-4ae963fd052e",
   "metadata": {},
   "source": [
    "#### 시드 설정"
   ]
  },
  {
   "cell_type": "code",
   "execution_count": 3,
   "id": "c1488db4-7545-44f1-b529-feed58d7d74b",
   "metadata": {
    "execution": {
     "iopub.execute_input": "2022-08-30T11:58:06.596913Z",
     "iopub.status.busy": "2022-08-30T11:58:06.595688Z",
     "iopub.status.idle": "2022-08-30T11:58:06.611400Z",
     "shell.execute_reply": "2022-08-30T11:58:06.609318Z",
     "shell.execute_reply.started": "2022-08-30T11:58:06.596834Z"
    },
    "tags": []
   },
   "outputs": [],
   "source": [
    "RANDOM_SEED = 2022\n",
    "\n",
    "torch.manual_seed(RANDOM_SEED)\n",
    "torch.backends.cudnn.deterministic = True\n",
    "torch.backends.cudnn.benchmark = False\n",
    "np.random.seed(RANDOM_SEED)\n",
    "random.seed(RANDOM_SEED)"
   ]
  },
  {
   "cell_type": "markdown",
   "id": "4e1fc70a-2695-4285-8764-9c57bcb85cd2",
   "metadata": {},
   "source": [
    "#### 디바이스 설정"
   ]
  },
  {
   "cell_type": "code",
   "execution_count": 4,
   "id": "7e6c97f6-c71a-4a23-8756-814eb7c10dcc",
   "metadata": {
    "execution": {
     "iopub.execute_input": "2022-08-30T11:58:07.329775Z",
     "iopub.status.busy": "2022-08-30T11:58:07.328743Z",
     "iopub.status.idle": "2022-08-30T11:58:07.381119Z",
     "shell.execute_reply": "2022-08-30T11:58:07.379433Z",
     "shell.execute_reply.started": "2022-08-30T11:58:07.329705Z"
    }
   },
   "outputs": [],
   "source": [
    "# 디바이스 설정 (GPU 설정)\n",
    "os.environ[\"CUDA_VISIBLE_DEVICES\"]=\"0\"\n",
    "DEVICE = torch.device('cuda' if torch.cuda.is_available() else 'cpu')"
   ]
  },
  {
   "cell_type": "markdown",
   "id": "24834c28-ed64-495b-b523-62bbc1178a88",
   "metadata": {},
   "source": [
    "#### 하이퍼파라미터 설정"
   ]
  },
  {
   "cell_type": "code",
   "execution_count": 5,
   "id": "ec1b73fa-54c7-4266-8cea-8516ca838bac",
   "metadata": {
    "execution": {
     "iopub.execute_input": "2022-08-30T11:58:08.229719Z",
     "iopub.status.busy": "2022-08-30T11:58:08.228826Z",
     "iopub.status.idle": "2022-08-30T11:58:08.237702Z",
     "shell.execute_reply": "2022-08-30T11:58:08.235943Z",
     "shell.execute_reply.started": "2022-08-30T11:58:08.229655Z"
    }
   },
   "outputs": [],
   "source": [
    "EPOCHS = 20\n",
    "BATCH_SIZE = 32\n",
    "LEARNING_RATE = 0.0003\n",
    "EARLY_STOPPING_PATIENCE = 10"
   ]
  },
  {
   "cell_type": "markdown",
   "id": "498eb22e-e2db-4d11-b3d4-1bf8918b749a",
   "metadata": {},
   "source": [
    "## Dataset 정의"
   ]
  },
  {
   "cell_type": "code",
   "execution_count": 6,
   "id": "5a44426d-b2a4-4cb4-b321-7e69d8815c6f",
   "metadata": {
    "execution": {
     "iopub.execute_input": "2022-08-30T11:58:09.177179Z",
     "iopub.status.busy": "2022-08-30T11:58:09.176273Z",
     "iopub.status.idle": "2022-08-30T11:58:09.195215Z",
     "shell.execute_reply": "2022-08-30T11:58:09.193881Z",
     "shell.execute_reply.started": "2022-08-30T11:58:09.177112Z"
    }
   },
   "outputs": [],
   "source": [
    "class EEG_Single_Dataset(Dataset):\n",
    "    def __init__(self, datapath, labeldf, normpath):\n",
    "        self.df = labeldf\n",
    "        self.label_encoding = {'W':0, 'N1':1, 'N2':2, 'N3':3, 'R':4}\n",
    "        self.data_path = datapath\n",
    "        self.file_ids = self.df['rec_id']\n",
    "        self.labels = self.df['stage']\n",
    "        self.normparams = np.load(normpath).astype('float32')\n",
    "        self.mean = self.normparams[0]\n",
    "        self.std = self.normparams[1]\n",
    "    \n",
    "    def __len__(self):\n",
    "        return len(self.file_ids)\n",
    "    \n",
    "    def __getitem__(self,index):\n",
    "        npypath = os.path.join(self.data_path, self.file_ids[index]+'.npy')\n",
    "        x = torch.from_numpy(np.load(npypath).astype('float32'))\n",
    "        x = (x-self.mean)/self.std\n",
    "        subx = x[:,-30*128:]\n",
    "        label = self.labels[index]\n",
    "        y = self.label_encoding[label]\n",
    "        \n",
    "        return subx,y"
   ]
  },
  {
   "cell_type": "markdown",
   "id": "3f405461-717f-4438-8cb6-164e6859ba5c",
   "metadata": {},
   "source": [
    "## 모델 정의"
   ]
  },
  {
   "cell_type": "code",
   "execution_count": 7,
   "id": "ef14efb7-0c1a-49a5-88af-9acf791ead7a",
   "metadata": {
    "execution": {
     "iopub.execute_input": "2022-08-30T11:58:11.658433Z",
     "iopub.status.busy": "2022-08-30T11:58:11.656519Z",
     "iopub.status.idle": "2022-08-30T11:58:11.682812Z",
     "shell.execute_reply": "2022-08-30T11:58:11.681304Z",
     "shell.execute_reply.started": "2022-08-30T11:58:11.658357Z"
    }
   },
   "outputs": [],
   "source": [
    "class DOUBLE_CNN(nn.Module):\n",
    "    def __init__(self):\n",
    "        super(DOUBLE_CNN, self).__init__()\n",
    "        \n",
    "        self.small_cnn = nn.Sequential(\n",
    "            nn.Conv1d(in_channels=1, out_channels=64, kernel_size=int(128/2), stride = int(128/16)),\n",
    "            nn.BatchNorm1d(64),\n",
    "            nn.ReLU(),\n",
    "            nn.MaxPool1d(kernel_size=8, stride=8),\n",
    "            nn.Dropout(p=0.3),\n",
    "            nn.Conv1d(in_channels=64, out_channels=128, kernel_size=4),\n",
    "            nn.BatchNorm1d(128),\n",
    "            nn.ReLU(),\n",
    "            nn.Conv1d(in_channels=128, out_channels=128, kernel_size=4),\n",
    "            nn.BatchNorm1d(128),\n",
    "            nn.ReLU(),\n",
    "            nn.Conv1d(in_channels=128, out_channels=128, kernel_size=4),\n",
    "            nn.BatchNorm1d(128),\n",
    "            nn.ReLU(),\n",
    "            nn.MaxPool1d(kernel_size=4, stride=4),\n",
    "        )\n",
    "\n",
    "        self.large_cnn = nn.Sequential(\n",
    "            nn.Conv1d(in_channels=1, out_channels=64, kernel_size=128*4, stride=int(128/2)),\n",
    "            nn.BatchNorm1d(64),\n",
    "            nn.ReLU(),\n",
    "            nn.MaxPool1d(kernel_size=4, stride=4),\n",
    "            nn.Dropout(p=0.3),\n",
    "            nn.Conv1d(in_channels = 64, out_channels=128, kernel_size=3),\n",
    "            nn.BatchNorm1d(128),\n",
    "            nn.ReLU(),\n",
    "            nn.Conv1d(in_channels = 128, out_channels = 128, kernel_size=3),\n",
    "            nn.BatchNorm1d(128),\n",
    "            nn.ReLU(),\n",
    "            nn.MaxPool1d(kernel_size=2, stride=2),\n",
    "        )\n",
    "        \n",
    "        self.fc = nn.Sequential(\n",
    "            nn.Linear((12+4)*128,1024),\n",
    "            nn.ReLU(),\n",
    "            nn.Linear(1024,128),\n",
    "            nn.ReLU(),\n",
    "            nn.Linear(128,64),\n",
    "            nn.ReLU(),\n",
    "            nn.Linear(64,5)\n",
    "        )\n",
    "\n",
    "    def forward(self, x):\n",
    "        xs = self.small_cnn(x)\n",
    "        xl = self.large_cnn(x)\n",
    "        xs = xs.flatten(1,2)\n",
    "        xl = xl.flatten(1,2)\n",
    "        xcat = torch.cat((xs,xl),1)\n",
    "        out = self.fc(xcat)\n",
    "        return out"
   ]
  },
  {
   "cell_type": "markdown",
   "id": "fea6095b-f7d4-4b9f-9539-ffd004bbe806",
   "metadata": {},
   "source": [
    "## Utils 정의\n",
    "#### EarlyStopper"
   ]
  },
  {
   "cell_type": "code",
   "execution_count": 8,
   "id": "26811310-d914-45cf-88ec-2412926ab4b6",
   "metadata": {
    "execution": {
     "iopub.execute_input": "2022-08-30T11:58:13.565183Z",
     "iopub.status.busy": "2022-08-30T11:58:13.564416Z",
     "iopub.status.idle": "2022-08-30T11:58:13.574854Z",
     "shell.execute_reply": "2022-08-30T11:58:13.573764Z",
     "shell.execute_reply.started": "2022-08-30T11:58:13.565134Z"
    },
    "tags": []
   },
   "outputs": [],
   "source": [
    "class LossEarlyStopper():\n",
    "    def __init__(self, patience: int)-> None:\n",
    "        self.patience = patience\n",
    "        self.patience_counter = 0\n",
    "        self.min_loss = np.Inf\n",
    "        self.stop = False\n",
    "        self.savel_model = False\n",
    "        \n",
    "    def check_early_stopping(self, loss: float)-> None:\n",
    "        if loss > self.min_loss:\n",
    "            self.patience_counter +=1\n",
    "            msg = f\"Early stopping counter {self.patience_counter}/{self.patience}\"\n",
    "            \n",
    "            if self.patience_counter == self.patience:\n",
    "                self.stop=True\n",
    "            \n",
    "        else:\n",
    "            self.patience_counter = 0\n",
    "            self.save_model = True\n",
    "            msg = f\"Validation loss decreased {self.min_loss} - > {loss}\"\n",
    "            self.min_loss = loss\n",
    "        print(msg)"
   ]
  },
  {
   "cell_type": "markdown",
   "id": "75d42730-3920-4742-a2cf-e735a2659839",
   "metadata": {},
   "source": [
    "#### Trainer"
   ]
  },
  {
   "cell_type": "code",
   "execution_count": 9,
   "id": "0592fe02-03da-4f19-bedd-b35a3f4a55c4",
   "metadata": {
    "execution": {
     "iopub.execute_input": "2022-08-30T11:58:16.037734Z",
     "iopub.status.busy": "2022-08-30T11:58:16.036219Z",
     "iopub.status.idle": "2022-08-30T11:58:16.062342Z",
     "shell.execute_reply": "2022-08-30T11:58:16.060998Z",
     "shell.execute_reply.started": "2022-08-30T11:58:16.037652Z"
    }
   },
   "outputs": [],
   "source": [
    "class Trainer():\n",
    "    def __init__(self, model, optimizer, loss, metrics, device):\n",
    "        self.model = model\n",
    "        self.optimizer = optimizer\n",
    "        self.loss = loss\n",
    "        self.metric_fn = metrics\n",
    "        self.device = device\n",
    "        \n",
    "    def train_epoch(self, dataloader, epoch_index):\n",
    "        self.model.train()\n",
    "        train_total_loss = 0\n",
    "        target_list = []\n",
    "        pred_list = []\n",
    "        \n",
    "        for batch_index, (x,y) in enumerate(dataloader):\n",
    "            x,y = x.to(self.device), y.to(self.device)\n",
    "            y_pred = model(x)\n",
    "            loss = self.loss(y_pred,y)\n",
    "            self.optimizer.zero_grad()\n",
    "            loss.backward()\n",
    "            self.optimizer.step()\n",
    "            \n",
    "            train_total_loss += loss.item()\n",
    "            pred_list.extend(y_pred.argmax(dim=1).cpu().tolist())\n",
    "            target_list.extend(y.cpu().tolist())\n",
    "        self.train_mean_loss = train_total_loss / (batch_index+1)\n",
    "        train_score, f1 = self.metric_fn(y_pred=pred_list, y_answer=target_list)\n",
    "        msg = f\"Epoch {epoch_index}, Train loss: {self.train_mean_loss}, Acc:{train_score}, F1-Macro: {f1}\"\n",
    "        print(msg)\n",
    "    \n",
    "    def validate_epoch(self, dataloader, epoch_index):\n",
    "        val_total_loss = 0\n",
    "        target_list = []\n",
    "        pred_list = []\n",
    "        \n",
    "        with torch.no_grad():\n",
    "            for batch_index, (x, y) in enumerate(dataloader):\n",
    "                x = x.to(self.device)\n",
    "                y = y.to(self.device)\n",
    "                y_pred = self.model(x)\n",
    "                loss = self.loss(y_pred, y)\n",
    "                \n",
    "                val_total_loss += loss.item()\n",
    "                target_list.extend(y.cpu().tolist())\n",
    "                pred_list.extend(y_pred.argmax(dim=1).cpu().tolist())\n",
    "        self.val_mean_loss = val_total_loss / (batch_index+1)\n",
    "        val_score, f1 = self.metric_fn(y_pred = pred_list, y_answer = target_list)\n",
    "        msg = f\"Epoch {epoch_index}, Val loss: {self.val_mean_loss}, Acc:{val_score}, F1-Macro: {f1}\"\n",
    "        print(msg)"
   ]
  },
  {
   "cell_type": "markdown",
   "id": "688a15fb-6376-42e1-90e4-39871ae239a1",
   "metadata": {},
   "source": [
    "#### 평가지표"
   ]
  },
  {
   "cell_type": "code",
   "execution_count": 10,
   "id": "4ddb9601-fbdd-4ccc-89cc-ffa51e6ec4f7",
   "metadata": {
    "execution": {
     "iopub.execute_input": "2022-08-30T11:58:18.129221Z",
     "iopub.status.busy": "2022-08-30T11:58:18.127995Z",
     "iopub.status.idle": "2022-08-30T11:58:18.140612Z",
     "shell.execute_reply": "2022-08-30T11:58:18.138294Z",
     "shell.execute_reply.started": "2022-08-30T11:58:18.129140Z"
    }
   },
   "outputs": [],
   "source": [
    "def get_metric_fn(y_pred, y_answer):\n",
    "    assert len(y_pred) == len(y_answer), 'The size of prediction and answer are not the same.'\n",
    "    accuracy = accuracy_score(y_answer, y_pred)\n",
    "    f1 = f1_score(y_answer, y_pred, average='macro')\n",
    "    return accuracy, f1"
   ]
  },
  {
   "cell_type": "markdown",
   "id": "c276a244-113d-475c-9102-2be0f313d2ed",
   "metadata": {},
   "source": [
    "## 모델 학습"
   ]
  },
  {
   "cell_type": "markdown",
   "id": "7b615cbe-a2a3-4f90-91ee-5f552bec9c92",
   "metadata": {},
   "source": [
    "#### Dataset & Dataloader 설정"
   ]
  },
  {
   "cell_type": "code",
   "execution_count": 11,
   "id": "95431737-bba8-4f11-ad93-1858738d123d",
   "metadata": {
    "execution": {
     "iopub.execute_input": "2022-08-30T11:58:20.226522Z",
     "iopub.status.busy": "2022-08-30T11:58:20.225566Z",
     "iopub.status.idle": "2022-08-30T11:58:20.268270Z",
     "shell.execute_reply": "2022-08-30T11:58:20.267387Z",
     "shell.execute_reply.started": "2022-08-30T11:58:20.226444Z"
    },
    "tags": []
   },
   "outputs": [
    {
     "name": "stdout",
     "output_type": "stream",
     "text": [
      "Train set samples:  20024 Val set samples:  5007\n"
     ]
    }
   ],
   "source": [
    "# Load label dataframe\n",
    "entiredf = pd.read_csv(label_dir)\n",
    "traindf, valdf = train_test_split(entiredf, test_size=0.2)\n",
    "traindf = traindf.reset_index(drop=True)\n",
    "valdf = valdf.reset_index(drop=True)\n",
    "\n",
    "\n",
    "train_dataset = EEG_Single_Dataset(datapath=train_dir, labeldf=traindf, normpath=norm_dir)\n",
    "val_dataset = EEG_Single_Dataset(datapath=train_dir, labeldf=valdf, normpath=norm_dir)\n",
    "\n",
    "train_loader = DataLoader(train_dataset, batch_size=BATCH_SIZE, shuffle=True)\n",
    "val_loader = DataLoader(val_dataset, batch_size=BATCH_SIZE, shuffle=False)\n",
    "\n",
    "print('Train set samples: ', len(train_dataset), 'Val set samples: ', len(val_dataset))"
   ]
  },
  {
   "cell_type": "markdown",
   "id": "e0dba7ae-d65f-46b1-87d5-068ce5c3308e",
   "metadata": {},
   "source": [
    "#### 모델과 기타 utils 설정"
   ]
  },
  {
   "cell_type": "code",
   "execution_count": 12,
   "id": "ef07a0b7-e56e-48eb-82a7-4b2c7bc5df45",
   "metadata": {
    "execution": {
     "iopub.execute_input": "2022-08-30T11:58:22.329575Z",
     "iopub.status.busy": "2022-08-30T11:58:22.327852Z",
     "iopub.status.idle": "2022-08-30T11:58:33.409108Z",
     "shell.execute_reply": "2022-08-30T11:58:33.405007Z",
     "shell.execute_reply.started": "2022-08-30T11:58:22.329490Z"
    }
   },
   "outputs": [],
   "source": [
    "model = DOUBLE_CNN().to(DEVICE)\n",
    "criterion = nn.CrossEntropyLoss()\n",
    "optimizer = torch.optim.Adam(model.parameters(), lr=LEARNING_RATE)\n",
    "loss_fn = nn.CrossEntropyLoss()\n",
    "early_stopper = LossEarlyStopper(patience=EARLY_STOPPING_PATIENCE)\n",
    "metrics = get_metric_fn\n",
    "\n",
    "trainer = Trainer(model, optimizer, loss_fn, get_metric_fn, DEVICE)"
   ]
  },
  {
   "cell_type": "code",
   "execution_count": 13,
   "id": "ab397dfb-87d8-4b8b-a34e-b5a060d8c39c",
   "metadata": {
    "collapsed": true,
    "execution": {
     "iopub.execute_input": "2022-08-30T11:58:33.416541Z",
     "iopub.status.busy": "2022-08-30T11:58:33.415500Z",
     "iopub.status.idle": "2022-08-30T11:58:33.439887Z",
     "shell.execute_reply": "2022-08-30T11:58:33.438677Z",
     "shell.execute_reply.started": "2022-08-30T11:58:33.416466Z"
    },
    "jupyter": {
     "outputs_hidden": true
    },
    "tags": []
   },
   "outputs": [
    {
     "data": {
      "text/plain": [
       "DOUBLE_CNN(\n",
       "  (small_cnn): Sequential(\n",
       "    (0): Conv1d(1, 64, kernel_size=(64,), stride=(8,))\n",
       "    (1): BatchNorm1d(64, eps=1e-05, momentum=0.1, affine=True, track_running_stats=True)\n",
       "    (2): ReLU()\n",
       "    (3): MaxPool1d(kernel_size=8, stride=8, padding=0, dilation=1, ceil_mode=False)\n",
       "    (4): Dropout(p=0.3, inplace=False)\n",
       "    (5): Conv1d(64, 128, kernel_size=(4,), stride=(1,))\n",
       "    (6): BatchNorm1d(128, eps=1e-05, momentum=0.1, affine=True, track_running_stats=True)\n",
       "    (7): ReLU()\n",
       "    (8): Conv1d(128, 128, kernel_size=(4,), stride=(1,))\n",
       "    (9): BatchNorm1d(128, eps=1e-05, momentum=0.1, affine=True, track_running_stats=True)\n",
       "    (10): ReLU()\n",
       "    (11): Conv1d(128, 128, kernel_size=(4,), stride=(1,))\n",
       "    (12): BatchNorm1d(128, eps=1e-05, momentum=0.1, affine=True, track_running_stats=True)\n",
       "    (13): ReLU()\n",
       "    (14): MaxPool1d(kernel_size=4, stride=4, padding=0, dilation=1, ceil_mode=False)\n",
       "  )\n",
       "  (large_cnn): Sequential(\n",
       "    (0): Conv1d(1, 64, kernel_size=(512,), stride=(64,))\n",
       "    (1): BatchNorm1d(64, eps=1e-05, momentum=0.1, affine=True, track_running_stats=True)\n",
       "    (2): ReLU()\n",
       "    (3): MaxPool1d(kernel_size=4, stride=4, padding=0, dilation=1, ceil_mode=False)\n",
       "    (4): Dropout(p=0.3, inplace=False)\n",
       "    (5): Conv1d(64, 128, kernel_size=(3,), stride=(1,))\n",
       "    (6): BatchNorm1d(128, eps=1e-05, momentum=0.1, affine=True, track_running_stats=True)\n",
       "    (7): ReLU()\n",
       "    (8): Conv1d(128, 128, kernel_size=(3,), stride=(1,))\n",
       "    (9): BatchNorm1d(128, eps=1e-05, momentum=0.1, affine=True, track_running_stats=True)\n",
       "    (10): ReLU()\n",
       "    (11): MaxPool1d(kernel_size=2, stride=2, padding=0, dilation=1, ceil_mode=False)\n",
       "  )\n",
       "  (fc): Sequential(\n",
       "    (0): Linear(in_features=2048, out_features=1024, bias=True)\n",
       "    (1): ReLU()\n",
       "    (2): Linear(in_features=1024, out_features=128, bias=True)\n",
       "    (3): ReLU()\n",
       "    (4): Linear(in_features=128, out_features=64, bias=True)\n",
       "    (5): ReLU()\n",
       "    (6): Linear(in_features=64, out_features=5, bias=True)\n",
       "  )\n",
       ")"
      ]
     },
     "execution_count": 13,
     "metadata": {},
     "output_type": "execute_result"
    }
   ],
   "source": [
    "model"
   ]
  },
  {
   "cell_type": "markdown",
   "id": "ee52b13c-38ca-427f-a0b2-537df07dce72",
   "metadata": {},
   "source": [
    "### Epoch 단위 학습 진행"
   ]
  },
  {
   "cell_type": "code",
   "execution_count": null,
   "id": "aa9faef9-ead3-4bfa-9534-23d920050abd",
   "metadata": {
    "collapsed": true,
    "execution": {
     "iopub.execute_input": "2022-08-30T11:58:37.398898Z",
     "iopub.status.busy": "2022-08-30T11:58:37.397933Z"
    },
    "jupyter": {
     "outputs_hidden": true
    },
    "tags": []
   },
   "outputs": [
    {
     "name": "stderr",
     "output_type": "stream",
     "text": [
      "  0%|          | 0/20 [00:00<?, ?it/s]"
     ]
    },
    {
     "name": "stdout",
     "output_type": "stream",
     "text": [
      "Epoch 0, Train loss: 1.1453338464418539, Acc:0.5292149420695166, F1-Macro: 0.38243259930365275\n"
     ]
    },
    {
     "name": "stderr",
     "output_type": "stream",
     "text": [
      "  5%|▌         | 1/20 [00:52<16:33, 52.28s/it]"
     ]
    },
    {
     "name": "stdout",
     "output_type": "stream",
     "text": [
      "Epoch 0, Val loss: 1.0612052914443288, Acc:0.5674056321150389, F1-Macro: 0.4022797071031422\n",
      "Validation loss decreased inf - > 1.0612052914443288\n",
      "Epoch 1, Train loss: 1.0100702574839606, Acc:0.5957850579304834, F1-Macro: 0.47062324335276057\n"
     ]
    },
    {
     "name": "stderr",
     "output_type": "stream",
     "text": [
      " 10%|█         | 2/20 [01:16<10:42, 35.71s/it]"
     ]
    },
    {
     "name": "stdout",
     "output_type": "stream",
     "text": [
      "Epoch 1, Val loss: 0.9388385160713438, Acc:0.6363091671659676, F1-Macro: 0.5054368494379257\n",
      "Validation loss decreased 1.0612052914443288 - > 0.9388385160713438\n",
      "Epoch 2, Train loss: 0.9381905822708203, Acc:0.6326907710747104, F1-Macro: 0.5046080376086303\n"
     ]
    },
    {
     "name": "stderr",
     "output_type": "stream",
     "text": [
      " 15%|█▌        | 3/20 [01:38<08:25, 29.72s/it]"
     ]
    },
    {
     "name": "stdout",
     "output_type": "stream",
     "text": [
      "Epoch 2, Val loss: 0.8895192787905407, Acc:0.6674655482324745, F1-Macro: 0.53397285344861\n",
      "Validation loss decreased 0.9388385160713438 - > 0.8895192787905407\n",
      "Epoch 3, Train loss: 0.889917863300814, Acc:0.6584099081102677, F1-Macro: 0.5283238324621993\n"
     ]
    },
    {
     "name": "stderr",
     "output_type": "stream",
     "text": [
      " 20%|██        | 4/20 [02:01<07:08, 26.80s/it]"
     ]
    },
    {
     "name": "stdout",
     "output_type": "stream",
     "text": [
      "Epoch 3, Val loss: 0.8773582813086783, Acc:0.6630716996205313, F1-Macro: 0.5176612772994517\n",
      "Validation loss decreased 0.8895192787905407 - > 0.8773582813086783\n",
      "Epoch 4, Train loss: 0.8424193879095511, Acc:0.6797343188174191, F1-Macro: 0.5463274996441474\n"
     ]
    },
    {
     "name": "stderr",
     "output_type": "stream",
     "text": [
      " 25%|██▌       | 5/20 [02:25<06:28, 25.91s/it]"
     ]
    },
    {
     "name": "stdout",
     "output_type": "stream",
     "text": [
      "Epoch 4, Val loss: 0.836317352238734, Acc:0.6802476532854005, F1-Macro: 0.5440865902112556\n",
      "Validation loss decreased 0.8773582813086783 - > 0.836317352238734\n",
      "Epoch 5, Train loss: 0.8185356725423861, Acc:0.6932680783060328, F1-Macro: 0.5576488807188855\n"
     ]
    },
    {
     "name": "stderr",
     "output_type": "stream",
     "text": [
      " 30%|███       | 6/20 [02:48<05:50, 25.03s/it]"
     ]
    },
    {
     "name": "stdout",
     "output_type": "stream",
     "text": [
      "Epoch 5, Val loss: 0.8193544215837102, Acc:0.6898342320750949, F1-Macro: 0.5501398235978998\n",
      "Validation loss decreased 0.836317352238734 - > 0.8193544215837102\n",
      "Epoch 6, Train loss: 0.7945308552001612, Acc:0.6999101078705553, F1-Macro: 0.5626284348195592\n"
     ]
    },
    {
     "name": "stderr",
     "output_type": "stream",
     "text": [
      " 35%|███▌      | 7/20 [03:11<05:16, 24.32s/it]"
     ]
    },
    {
     "name": "stdout",
     "output_type": "stream",
     "text": [
      "Epoch 6, Val loss: 0.7888285132350435, Acc:0.6992210904733374, F1-Macro: 0.5604328875738298\n",
      "Validation loss decreased 0.8193544215837102 - > 0.7888285132350435\n",
      "Epoch 7, Train loss: 0.779386970657891, Acc:0.7065521374350779, F1-Macro: 0.5693082546893342\n"
     ]
    },
    {
     "name": "stderr",
     "output_type": "stream",
     "text": [
      " 40%|████      | 8/20 [03:34<04:46, 23.87s/it]"
     ]
    },
    {
     "name": "stdout",
     "output_type": "stream",
     "text": [
      "Epoch 7, Val loss: 0.7880912554112209, Acc:0.7006191332135011, F1-Macro: 0.5591151735194156\n",
      "Validation loss decreased 0.7888285132350435 - > 0.7880912554112209\n",
      "Epoch 8, Train loss: 0.7578384491582267, Acc:0.7131941669996005, F1-Macro: 0.575227720339972\n"
     ]
    },
    {
     "name": "stderr",
     "output_type": "stream",
     "text": [
      " 45%|████▌     | 9/20 [03:57<04:20, 23.66s/it]"
     ]
    },
    {
     "name": "stdout",
     "output_type": "stream",
     "text": [
      "Epoch 8, Val loss: 0.782622388024239, Acc:0.7054124226083484, F1-Macro: 0.5648768654801425\n",
      "Validation loss decreased 0.7880912554112209 - > 0.782622388024239\n",
      "Epoch 9, Train loss: 0.740568455177755, Acc:0.7238314023172193, F1-Macro: 0.5849428575873997\n"
     ]
    },
    {
     "name": "stderr",
     "output_type": "stream",
     "text": [
      " 50%|█████     | 10/20 [04:20<03:54, 23.42s/it]"
     ]
    },
    {
     "name": "stdout",
     "output_type": "stream",
     "text": [
      "Epoch 9, Val loss: 0.7698110945665153, Acc:0.7128020770920711, F1-Macro: 0.5723437230924877\n",
      "Validation loss decreased 0.782622388024239 - > 0.7698110945665153\n",
      "Epoch 10, Train loss: 0.7251864332265366, Acc:0.7264782261286457, F1-Macro: 0.5887867149732016\n"
     ]
    },
    {
     "name": "stderr",
     "output_type": "stream",
     "text": [
      " 55%|█████▌    | 11/20 [04:43<03:29, 23.28s/it]"
     ]
    },
    {
     "name": "stdout",
     "output_type": "stream",
     "text": [
      "Epoch 10, Val loss: 0.7728866228632106, Acc:0.7086079488715797, F1-Macro: 0.5695027607183064\n",
      "Early stopping counter 1/10\n",
      "Epoch 11, Train loss: 0.7172755345273704, Acc:0.7291749900119856, F1-Macro: 0.5912695259844607\n"
     ]
    },
    {
     "name": "stderr",
     "output_type": "stream",
     "text": [
      " 60%|██████    | 12/20 [05:06<03:05, 23.25s/it]"
     ]
    },
    {
     "name": "stdout",
     "output_type": "stream",
     "text": [
      "Epoch 11, Val loss: 0.7664825859343171, Acc:0.713800679049331, F1-Macro: 0.570115512515343\n",
      "Validation loss decreased 0.7698110945665153 - > 0.7664825859343171\n",
      "Epoch 12, Train loss: 0.6998926195949792, Acc:0.7355673192169396, F1-Macro: 0.597329608998994\n"
     ]
    },
    {
     "name": "stderr",
     "output_type": "stream",
     "text": [
      " 65%|██████▌   | 13/20 [05:30<02:43, 23.29s/it]"
     ]
    },
    {
     "name": "stdout",
     "output_type": "stream",
     "text": [
      "Epoch 12, Val loss: 0.7721389059428196, Acc:0.7122029159177152, F1-Macro: 0.5736816706471793\n",
      "Early stopping counter 1/10\n",
      "Epoch 13, Train loss: 0.6871842387766122, Acc:0.738363963244107, F1-Macro: 0.602474755096104\n"
     ]
    },
    {
     "name": "stderr",
     "output_type": "stream",
     "text": [
      " 70%|███████   | 14/20 [05:53<02:19, 23.23s/it]"
     ]
    },
    {
     "name": "stdout",
     "output_type": "stream",
     "text": [
      "Epoch 13, Val loss: 0.7845800651866159, Acc:0.7066107449570601, F1-Macro: 0.5756160623180049\n",
      "Early stopping counter 2/10\n",
      "Epoch 14, Train loss: 0.6764483743915543, Acc:0.7420595285657211, F1-Macro: 0.605942888497002\n"
     ]
    },
    {
     "name": "stderr",
     "output_type": "stream",
     "text": [
      " 75%|███████▌  | 15/20 [06:16<01:56, 23.32s/it]"
     ]
    },
    {
     "name": "stdout",
     "output_type": "stream",
     "text": [
      "Epoch 14, Val loss: 0.7560649206683894, Acc:0.7140003994407829, F1-Macro: 0.5753688519275121\n",
      "Validation loss decreased 0.7664825859343171 - > 0.7560649206683894\n",
      "Epoch 15, Train loss: 0.6646220652630535, Acc:0.7460547343188174, F1-Macro: 0.6105909363143546\n"
     ]
    },
    {
     "name": "stderr",
     "output_type": "stream",
     "text": [
      " 80%|████████  | 16/20 [06:40<01:33, 23.26s/it]"
     ]
    },
    {
     "name": "stdout",
     "output_type": "stream",
     "text": [
      "Epoch 15, Val loss: 0.7779907923974808, Acc:0.7130017974835231, F1-Macro: 0.5708645965351344\n",
      "Early stopping counter 1/10\n",
      "Epoch 16, Train loss: 0.6542893385830016, Acc:0.7512485017978426, F1-Macro: 0.6181822008814359\n"
     ]
    },
    {
     "name": "stderr",
     "output_type": "stream",
     "text": [
      " 85%|████████▌ | 17/20 [07:03<01:09, 23.28s/it]"
     ]
    },
    {
     "name": "stdout",
     "output_type": "stream",
     "text": [
      "Epoch 16, Val loss: 0.7536191109828888, Acc:0.7191931296185341, F1-Macro: 0.5839228846198454\n",
      "Validation loss decreased 0.7560649206683894 - > 0.7536191109828888\n",
      "Epoch 17, Train loss: 0.6399173000797677, Acc:0.7546444266879744, F1-Macro: 0.6273127578012092\n"
     ]
    },
    {
     "name": "stderr",
     "output_type": "stream",
     "text": [
      " 90%|█████████ | 18/20 [07:26<00:46, 23.36s/it]"
     ]
    },
    {
     "name": "stdout",
     "output_type": "stream",
     "text": [
      "Epoch 17, Val loss: 0.7639277095247985, Acc:0.7151987217894947, F1-Macro: 0.5866299300537967\n",
      "Early stopping counter 1/10\n",
      "Epoch 18, Train loss: 0.62059688591919, Acc:0.7645825009988014, F1-Macro: 0.6450756993283382\n"
     ]
    },
    {
     "name": "stderr",
     "output_type": "stream",
     "text": [
      " 95%|█████████▌| 19/20 [07:49<00:23, 23.27s/it]"
     ]
    },
    {
     "name": "stdout",
     "output_type": "stream",
     "text": [
      "Epoch 18, Val loss: 0.7489563065349676, Acc:0.7269822248851607, F1-Macro: 0.6028545935572144\n",
      "Validation loss decreased 0.7536191109828888 - > 0.7489563065349676\n"
     ]
    }
   ],
   "source": [
    "for epoch_index in tqdm(range(EPOCHS)):\n",
    "    trainer.train_epoch(train_loader, epoch_index)\n",
    "    trainer.validate_epoch(val_loader, epoch_index)\n",
    "    \n",
    "    early_stopper.check_early_stopping(loss = trainer.val_mean_loss)\n",
    "    \n",
    "    if early_stopper.stop:\n",
    "        print('Early Stopped')\n",
    "        break\n",
    "    if early_stopper.save_model:\n",
    "        check_point = {\n",
    "            'model': model.state_dict(),\n",
    "            'optimizer': optimizer.state_dict(),\n",
    "        }\n",
    "        torch.save(check_point, 'best.pt')"
   ]
  },
  {
   "cell_type": "markdown",
   "id": "9eb6c61d-cd7e-4e8e-9862-105b867eae00",
   "metadata": {},
   "source": [
    "## 추론"
   ]
  },
  {
   "cell_type": "markdown",
   "id": "b5a8c4b0-a4fe-4db7-b960-54fb54a6a623",
   "metadata": {},
   "source": [
    "#### 테스트 Dataset 정의"
   ]
  },
  {
   "cell_type": "code",
   "execution_count": 199,
   "id": "293e2e97-cb8f-4086-a61f-4603737dadf9",
   "metadata": {},
   "outputs": [],
   "source": [
    "class TestDataset(Dataset):\n",
    "    def __init__(self, datapath, normpath):\n",
    "        self.data_path = datapath\n",
    "        self.npy_list = os.listdir(self.data_path)\n",
    "        self.normparams = np.load(normpath).astype('float32')\n",
    "        self.mean = self.normparams[0]\n",
    "        self.std = self.normparams[1]\n",
    "    \n",
    "    def __len__(self):\n",
    "        return len(self.npy_list)\n",
    "    \n",
    "    def __getitem__(self,index):\n",
    "        filename = self.npy_list[index]\n",
    "        npypath = os.path.join(self.data_path, filename)\n",
    "        x = torch.from_numpy(np.load(npypath).astype('float32'))\n",
    "        x = (x-self.mean)/self.std\n",
    "        subx = x[:,-30*128:]\n",
    "        subfilename = filename.split('.')[0]\n",
    "        return subx,subfilename"
   ]
  },
  {
   "cell_type": "markdown",
   "id": "188a96bf-bf8e-4fcb-8eb9-fb271c2fe0ff",
   "metadata": {},
   "source": [
    "#### 테스트 Dataset & Dataloader 설정"
   ]
  },
  {
   "cell_type": "code",
   "execution_count": 200,
   "id": "fdc91c71-b591-4685-be26-89045c613804",
   "metadata": {},
   "outputs": [],
   "source": [
    "test_dataset = TestDataset(test_dir, norm_dir)\n",
    "test_loader = DataLoader(dataset=test_dataset, batch_size=BATCH_SIZE, shuffle=False)"
   ]
  },
  {
   "cell_type": "markdown",
   "id": "e94f7366-3e63-4fd4-9657-84a452566fc5",
   "metadata": {},
   "source": [
    "#### 모델 로드"
   ]
  },
  {
   "cell_type": "code",
   "execution_count": 201,
   "id": "61f8ae3d-bcc7-41f5-9875-a8367f03ee26",
   "metadata": {},
   "outputs": [
    {
     "data": {
      "text/plain": [
       "<All keys matched successfully>"
      ]
     },
     "execution_count": 201,
     "metadata": {},
     "output_type": "execute_result"
    }
   ],
   "source": [
    "TRAINED_MODEL_PATH = 'best.pt'\n",
    "test_model = DOUBLE_CNN()\n",
    "test_model.load_state_dict(torch.load(TRAINED_MODEL_PATH)['model'])"
   ]
  },
  {
   "cell_type": "markdown",
   "id": "78a7a0ff-07fe-4649-bbea-919856804318",
   "metadata": {},
   "source": [
    "#### 추론 진행"
   ]
  },
  {
   "cell_type": "code",
   "execution_count": 213,
   "id": "ba1461ce-29cd-4f13-8904-a0d234830846",
   "metadata": {},
   "outputs": [
    {
     "name": "stderr",
     "output_type": "stream",
     "text": [
      "196it [00:02, 70.27it/s]\n"
     ]
    }
   ],
   "source": [
    "file_list = []\n",
    "pred_list = []\n",
    "\n",
    "test_model.to(DEVICE)\n",
    "test_model.eval()\n",
    "with torch.no_grad():\n",
    "    for batch_index, (x,y) in tqdm(enumerate(test_loader)):\n",
    "        x = x.to(DEVICE)\n",
    "        pred = test_model(x)\n",
    "        \n",
    "        file_list.extend(list(y))\n",
    "        pred_list.extend(pred.argmax(dim=1).tolist())"
   ]
  },
  {
   "cell_type": "markdown",
   "id": "c927b127-c8e9-4eab-ba99-57380b32f17f",
   "metadata": {},
   "source": [
    "#### 결과 저장"
   ]
  },
  {
   "cell_type": "code",
   "execution_count": 222,
   "id": "f0d7bfc3-4240-4559-b2a9-461d425d10fd",
   "metadata": {},
   "outputs": [],
   "source": [
    "# 예측 결과 데이터프레임으로 저장\n",
    "results = pd.DataFrame({'rec_id':file_list, 'stage':pred_list})\n",
    "\n",
    "# 예측 숫자 --> 클래스로 변경\n",
    "label_decoding = {0:'W', 1:'N1', 2:'N2', 3:'N3', 4:'R'}\n",
    "results = results.replace(label_decoding)\n",
    "\n",
    "# sample_submission.csv와 순서 동일하게 변경\n",
    "sampledf = pd.read_csv(os.path.join(DATA_DIR,'sample_submission.csv'))\n",
    "sorter = list(sampledf['rec_id'])\n",
    "results = results.set_index('rec_id')\n",
    "results = results.loc[sorter].reset_index()\n",
    "\n",
    "# 결과 저장\n",
    "results.to_csv('prediction.csv',index=False)"
   ]
  }
 ],
 "metadata": {
  "kernelspec": {
   "display_name": "Python 3 (ipykernel)",
   "language": "python",
   "name": "python3"
  },
  "language_info": {
   "codemirror_mode": {
    "name": "ipython",
    "version": 3
   },
   "file_extension": ".py",
   "mimetype": "text/x-python",
   "name": "python",
   "nbconvert_exporter": "python",
   "pygments_lexer": "ipython3",
   "version": "3.9.13"
  }
 },
 "nbformat": 4,
 "nbformat_minor": 5
}
